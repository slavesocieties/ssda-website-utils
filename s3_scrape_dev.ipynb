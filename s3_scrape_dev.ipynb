{
 "cells": [
  {
   "cell_type": "code",
   "execution_count": 1,
   "id": "acquired-making",
   "metadata": {},
   "outputs": [],
   "source": [
    "import json\n",
    "import boto3\n",
    "import os"
   ]
  },
  {
   "cell_type": "code",
   "execution_count": null,
   "id": "focused-familiar",
   "metadata": {},
   "outputs": [
    {
     "data": {
      "text/plain": [
       "556"
      ]
     },
     "execution_count": null,
     "metadata": {},
     "output_type": "execute_result"
    }
   ],
   "source": [
    "files = [\"colombia-vol\"]\n",
    "\n",
    "first_file = True\n",
    "\n",
    "for file in files:\n",
    "    with open(file + \".json\", encoding=\"utf-8\") as jsonfile:\n",
    "        if first_file:\n",
    "            first_file = False\n",
    "            data = json.load(jsonfile)\n",
    "        else:\n",
    "            temp = json.load(jsonfile)\n",
    "            for volume in temp[\"volumes\"]:\n",
    "                data[\"volumes\"].append(volume)\n",
    "\n",
    "len(data[\"volumes\"])"
   ]
  },
  {
   "cell_type": "code",
   "execution_count": null,
   "id": "otherwise-fellowship",
   "metadata": {},
   "outputs": [
    {
     "name": "stdout",
     "output_type": "stream",
     "text": [
      "556 556\n"
     ]
    }
   ],
   "source": [
    "five = 0\n",
    "\n",
    "for volume in data[\"volumes\"]:\n",
    "    coverages = 0    \n",
    "    for key in volume[\"coverage\"]:\n",
    "        coverages += 1\n",
    "        \n",
    "    if coverages < 4:\n",
    "        print(\"not all geog: \" + str(vol[\"identifier\"]))\n",
    "    elif coverages < 5:\n",
    "        print(\"missing coords: \" + str(vol[\"identifier\"]))\n",
    "    elif coverages != 5:\n",
    "        print(\"something screwy: \" + str(vol[\"identifier\"]))\n",
    "    else:\n",
    "        five += 1\n",
    "        \n",
    "print(len(data[\"volumes\"]), five)"
   ]
  },
  {
   "cell_type": "code",
   "execution_count": null,
   "id": "saved-shepherd",
   "metadata": {},
   "outputs": [
    {
     "name": "stdout",
     "output_type": "stream",
     "text": [
      "{'s3_path': 'Colombia/Bolívar/Cartagena_de_Indias/Archivo_Histórico_de_Cartagena/476682', 'title': 'Protocolos 1825.', 'creator': ['British Library EAP640'], 'subject': ['Notarial records', 'Colombia'], 'description': ['There are several notarial records in this protocole, one of them is about the sale of a low house, and aproximately four of them are about slave sales or grantings of special powers. (due to its advanced state of deterioration, the content cannot be verified). The registers are signed by José María Hérnandez. En este protocolo se encuentran consignados registros notariales de Ventas de una casa baja, y aproximadamente cuatro ventas de esclavos, poder especial. (debido a su avanzado deterioro no se puede verificar todo su contenido). Los autos los firma José María Hérnandez.  It has a blue hard cardboard cover coated with brown leatherette. The book is a bundle that is completely detached from the spine. 5% is in good condition, the remaining 95% is unreadable because it is damaged by dehydration, burns, biological agents and ferrous inks. It presents a numbering from a period after the creation of the original document. The book could not be photographed because it can not be manipulated because its high degree of deterioration. (It is located in the box 3.) Tiene una tapa de cartón duro de color azul jaspeado con lomo recubierto con cuerina color café. El libro es un legajo que se encuentra totalmente desprendido del  lomo. el 5% esta en buen estado, el restante 95% es ilegible ya que está deteriorado por deshidratación, agentes bilógicos y quemaduras de tinta ferrosa. Presenta una numeracion parcial posterior al periodo de creacion del documento. El libro no se pudo fotografiar  debido a que no se puede manipular por su alto grado de deterioro.  (Esta ubicado en la caja N° 3.) '], 'publisher': ['Slave Societies Digital Archive'], 'contributor': [{'name': 'Jane Landers', 'role': 'project director'}, {'name': 'Daniel Genkins', 'role': 'metadata creation'}], 'coverage': {'institution': 'Archivo Histórico de Cartagena', 'country': 'Colombia', 'state': 'Bolívar', 'city': 'Cartagena de Indias', 'coords': '10.4244876,-75.5605147'}, 'identifier': 476682, 'type': ['Notarial records'], 'format': ['1 volume, manuscript', '0004 JPEG images'], 'language': ['Spanish'], 'images': 4}\n"
     ]
    }
   ],
   "source": [
    "for volume in data[\"volumes\"]:\n",
    "    volume[\"images\"] = len(volume[\"images\"])"
   ]
  },
  {
   "cell_type": "code",
   "execution_count": null,
   "id": "assumed-melbourne",
   "metadata": {},
   "outputs": [],
   "source": [
    "for volume in data[\"volumes\"]:\n",
    "    volume[\"description\"] = volume[\"description\"][0]"
   ]
  },
  {
   "cell_type": "code",
   "execution_count": null,
   "id": "brave-circular",
   "metadata": {},
   "outputs": [],
   "source": [
    "for volume in data[\"volumes\"]:\n",
    "    volume[\"type\"] = volume[\"type\"][0]"
   ]
  },
  {
   "cell_type": "code",
   "execution_count": null,
   "id": "statewide-contamination",
   "metadata": {},
   "outputs": [],
   "source": [
    "for volume in data[\"volumes\"]:\n",
    "    if len(volume[\"publisher\"]) > 1:\n",
    "        print(\"extra pub\")\n",
    "    else:\n",
    "        volume[\"publisher\"] = volume[\"publisher\"][0]"
   ]
  },
  {
   "cell_type": "code",
   "execution_count": null,
   "id": "split-reform",
   "metadata": {},
   "outputs": [
    {
     "name": "stdout",
     "output_type": "stream",
     "text": [
      "['Baptisms', 'Burials', 'Colombia', 'Confirmations', 'Marriages', 'Notarial records', 'Official documents']\n"
     ]
    }
   ],
   "source": [
    "subjects = []\n",
    "\n",
    "\n",
    "for volume in data[\"volumes\"]:\n",
    "    if (\"subject\" in volume) and (volume[\"subject\"] != None):        \n",
    "        #for index, subject in enumerate(volume[\"subject\"]):\n",
    "            #if (\"Early\" in subject) or (\"Modern\" in subject):\n",
    "                #del volume[\"subject\"][index]\n",
    "                \n",
    "            #if (len(subject.split(' ')) > 1) and (subject.split(' ')[1].lower() != subject.split(' ')[1]):\n",
    "                #del volume[\"subject\"][index]\n",
    "                #volume[\"subject\"].append(subject.split(' ')[0] + ' ' + subject.split(' ')[1].lower())     \n",
    "                \n",
    "        for subject in volume[\"subject\"]:\n",
    "            if subject not in subjects:\n",
    "                subjects.append(subject)\n",
    "                \n",
    "    elif \"subject\" not in volume:\n",
    "        volume[\"subject\"] = None\n",
    "    else:\n",
    "        print(volume[\"subject\"])\n",
    "                \n",
    "subjects.sort()\n",
    "print(subjects)"
   ]
  },
  {
   "cell_type": "code",
   "execution_count": null,
   "id": "embedded-louis",
   "metadata": {},
   "outputs": [],
   "source": [
    "languages = []\n",
    "\n",
    "for volume in data[\"volumes\"]:\n",
    "    vol_languages = []\n",
    "    for language in volume[\"language\"]:\n",
    "        if \"spa\" in language:\n",
    "            vol_languages.append(\"Spanish\")\n",
    "        elif language == \"fre\":\n",
    "            vol_languages.append(\"French\")\n",
    "        elif language == \"eng\":\n",
    "            vol_languages.append(\"English\")\n",
    "        elif language == \"lat\":\n",
    "            vol_languages.append(\"Latin\")\n",
    "        \n",
    "    volume[\"language\"] = vol_languages\n",
    "    \n",
    "    for language in volume[\"language\"]:\n",
    "        if language not in languages:\n",
    "            languages.append(language)\n",
    "            \n",
    "print(languages)"
   ]
  },
  {
   "cell_type": "code",
   "execution_count": null,
   "id": "harmful-chapel",
   "metadata": {},
   "outputs": [],
   "source": [
    "for volume in data[\"volumes\"]:\n",
    "    try:\n",
    "        volume[\"identifier\"] = int(volume[\"identifier\"])\n",
    "    except:\n",
    "        print(\"non-integer id at \" + volume[\"identifier\"])"
   ]
  },
  {
   "cell_type": "code",
   "execution_count": null,
   "id": "laughing-throat",
   "metadata": {},
   "outputs": [
    {
     "name": "stdout",
     "output_type": "stream",
     "text": [
      "476682\n",
      "['1825']\n",
      "476687\n",
      "['1791']\n",
      "477060\n",
      "['1824']\n",
      "477097\n",
      "['1814']\n",
      "477270\n",
      "['1815']\n",
      "480883\n",
      "['1832/1832']\n",
      "481046\n",
      "['1831']\n",
      "481221\n",
      "['1826']\n",
      "481262\n",
      "['1831']\n",
      "481581\n",
      "['1825/1826']\n",
      "481612\n",
      "['1832']\n",
      "482078\n",
      "['1832']\n",
      "482235\n",
      "['1832']\n",
      "482495\n",
      "['1832']\n",
      "487159\n",
      "['1833']\n",
      "487302\n",
      "['1833']\n",
      "487538\n",
      "['1833']\n",
      "492345\n",
      "['1833']\n",
      "492722\n",
      "['1833']\n",
      "500527\n",
      "['1835']\n",
      "500632\n",
      "['1833']\n",
      "500738\n",
      "['1833']\n",
      "500863\n",
      "['1833']\n",
      "507281\n",
      "['1835']\n",
      "507420\n",
      "['1835']\n",
      "507567\n",
      "['1835']\n",
      "507750\n",
      "['1835']\n",
      "509334\n",
      "['1835']\n",
      "509445\n",
      "['1835']\n",
      "509594\n",
      "['1835']\n",
      "509713\n",
      "['1835']\n",
      "659401\n",
      "['1849']\n",
      "659749\n",
      "['1841']\n",
      "659957\n",
      "None\n",
      "660046\n",
      "['1843']\n",
      "660420\n",
      "['1839']\n",
      "660484\n",
      "['1840']\n",
      "660516\n",
      "['1839']\n",
      "660529\n",
      "['1835']\n",
      "660680\n",
      "['1845/1846']\n",
      "661145\n",
      "['1852']\n",
      "661372\n",
      "['1843']\n",
      "661435\n",
      "['1844']\n",
      "661985\n",
      "['1844']\n",
      "662601\n",
      "['1852']\n",
      "663276\n",
      "['1850']\n",
      "663964\n",
      "['1851']\n",
      "664035\n",
      "['1837/1838']\n",
      "664139\n",
      "['1840']\n",
      "664214\n",
      "['1842']\n",
      "664263\n",
      "None\n",
      "664827\n",
      "['1852']\n",
      "665280\n",
      "['1847']\n",
      "665398\n",
      "['1843']\n",
      "666442\n",
      "['1841/1842']\n",
      "666731\n",
      "['1842']\n",
      "667121\n",
      "['1851']\n",
      "667579\n",
      "['1846']\n",
      "668223\n",
      "['1848']\n",
      "668719\n",
      "['1851/1852']\n",
      "669102\n",
      "['1844']\n",
      "669277\n",
      "['1846']\n",
      "669546\n",
      "None\n",
      "669586\n",
      "['1850']\n",
      "670290\n",
      "['1847']\n",
      "670565\n",
      "['1845/1846']\n",
      "670887\n",
      "['1840/1841']\n",
      "671152\n",
      "None\n",
      "671200\n",
      "['1847']\n",
      "671706\n",
      "['1840/1841']\n",
      "671817\n",
      "None\n",
      "672059\n",
      "['1845/1846']\n",
      "672330\n",
      "['1849']\n",
      "672856\n",
      "['1849']\n",
      "673249\n",
      "['1843']\n",
      "673465\n",
      "['1851']\n",
      "674193\n",
      "['1848']\n",
      "674419\n",
      "['1836']\n",
      "674574\n",
      "['1840/1841']\n",
      "674857\n",
      "None\n",
      "700014\n",
      "['1843']\n",
      "700015\n",
      "['1845']\n",
      "464740\n",
      "None\n",
      "465658\n",
      "None\n"
     ]
    }
   ],
   "source": [
    "for volume in data[\"volumes\"]:\n",
    "    if not \"date\" in volume:\n",
    "        print(volume[\"identifier\"])        \n",
    "        found_date = False\n",
    "        volume[\"title\"] = volume[\"title\"].replace(',', \"\")\n",
    "        volume[\"title\"] = volume[\"title\"].replace('/', \" / \")\n",
    "        volume[\"title\"] = volume[\"title\"].replace('-', \" - \")\n",
    "        volume[\"title\"] = volume[\"title\"].replace('Protocolos1', \"Protocolos 1\")\n",
    "        dates = []\n",
    "        for word in volume[\"title\"].replace('.','').split(' '):\n",
    "            if (word.isdigit()) and (len(word) == 4) and (not found_date):\n",
    "                if word[:2] != \"19\":\n",
    "                    found_date = True\n",
    "                    dates.append(word)\n",
    "            elif (word.isdigit()) and (len(word) == 4):\n",
    "                if word[:2] != \"19\":\n",
    "                    found_date = True\n",
    "                    dates.append(word)\n",
    "        if len(dates) > 1:\n",
    "            dates.sort()\n",
    "            volume[\"date\"] = [dates[0] + '/' + dates[len(dates) - 1]]\n",
    "        elif len(dates) == 1:\n",
    "            volume[\"date\"] = [dates[0]]\n",
    "        else:\n",
    "            volume[\"date\"] = None\n",
    "        print(volume[\"date\"])\n",
    "    #if len(volume[\"date\"]) > 1:\n",
    "        #print(\"list date: \" + volume[\"date\"])\n",
    "        #continue\n",
    "    #dates = volume[\"date\"][0].split('/')\n",
    "    #if len(dates) < 2:\n",
    "        #print(\"one-sided date: \" + volume[\"date\"][0] + \" identifier: \" + str(volume[\"identifier\"]))"
   ]
  },
  {
   "cell_type": "code",
   "execution_count": null,
   "id": "unlikely-block",
   "metadata": {},
   "outputs": [
    {
     "name": "stdout",
     "output_type": "stream",
     "text": [
      "No date at 659957\n",
      "No date at 664263\n",
      "No date at 669546\n",
      "No date at 671152\n",
      "No date at 671817\n",
      "No date at 674857\n",
      "No date at 464740\n",
      "No date at 465658\n"
     ]
    }
   ],
   "source": [
    "for volume in data[\"volumes\"]:\n",
    "    start_year = None\n",
    "    start_month = None\n",
    "    start_day = None\n",
    "    end_year = None\n",
    "    end_month = None\n",
    "    end_day = None    \n",
    "    if isinstance(volume[\"date\"], dict):        \n",
    "        continue\n",
    "    if volume[\"date\"] == None:\n",
    "        print(\"No date at \" + str(volume[\"identifier\"]))\n",
    "        #continue\n",
    "    elif ',' in volume[\"date\"]:\n",
    "        start_year = \"1710\"\n",
    "        end_year = \"1799\"\n",
    "    elif volume[\"identifier\"] == 620257:\n",
    "        start_year = 1807\n",
    "        end_year = 1968\n",
    "    elif volume[\"identifier\"] == 435259:\n",
    "        start_year = 1865\n",
    "        end_year = 1877\n",
    "    elif len(volume[\"date\"][0].split('/')) == 1:\n",
    "        date_parts = volume[\"date\"][0].split('-')\n",
    "        if (len(date_parts) < 1) or (len(date_parts) > 3):\n",
    "            print('bad date at ' + str(volume[\"identifier\"]))\n",
    "            continue\n",
    "        elif len(date_parts) == 1:\n",
    "            start_year = date_parts[0]\n",
    "            end_year = date_parts[0]\n",
    "        elif len(date_parts) == 2:\n",
    "            start_year = date_parts[0]\n",
    "            end_year = date_parts[0]\n",
    "            start_month = date_parts[1]\n",
    "            end_month = date_parts[1]\n",
    "        elif len(date_parts) == 3:\n",
    "            start_year = date_parts[0]\n",
    "            end_year = date_parts[0]\n",
    "            start_month = date_parts[1]\n",
    "            end_month = date_parts[1]\n",
    "            start_day = date_parts[2]\n",
    "            end_day = date_parts[2]\n",
    "    elif len(volume[\"date\"][0].split('/')) == 2:\n",
    "        start_date = volume[\"date\"][0].split('/')[0]\n",
    "        end_date = volume[\"date\"][0].split('/')[1]\n",
    "        start_parts = start_date.split('-')\n",
    "        if (len(start_parts) < 1) or (len(start_parts) > 3):\n",
    "            print('bad date at ' + str(volume[\"identifier\"]))\n",
    "            continue\n",
    "        elif len(start_parts) == 1:\n",
    "            start_year = start_parts[0]            \n",
    "        elif len(start_parts) == 2:\n",
    "            start_year = start_parts[0]            \n",
    "            start_month = start_parts[1]            \n",
    "        elif len(start_parts) == 3:\n",
    "            start_year = start_parts[0]            \n",
    "            start_month = start_parts[1]            \n",
    "            start_day = start_parts[2]\n",
    "        end_parts = end_date.split('-')\n",
    "        if (len(end_parts) < 1) or (len(end_parts) > 3):\n",
    "            print('bad date at ' + str(volume[\"identifier\"]))\n",
    "            continue\n",
    "        elif len(end_parts) == 1:\n",
    "            end_year = end_parts[0]            \n",
    "        elif len(end_parts) == 2:\n",
    "            end_year = end_parts[0]            \n",
    "            end_month = end_parts[1]            \n",
    "        elif len(end_parts) == 3:\n",
    "            end_year = end_parts[0]            \n",
    "            end_month = end_parts[1]            \n",
    "            end_day = end_parts[2]\n",
    "    else:\n",
    "        print('bad date at ' + str(volume[\"identifier\"]))\n",
    "        continue        \n",
    "    \n",
    "    volume[\"date\"] = {\"start year\": start_year, \"start month\": start_month, \"start day\": start_day, \"end year\": end_year, \"end month\": end_month, \"end day\": end_day}"
   ]
  },
  {
   "cell_type": "code",
   "execution_count": null,
   "id": "yellow-crossing",
   "metadata": {},
   "outputs": [],
   "source": [
    "for volume in data[\"volumes\"]:\n",
    "    keys = 0\n",
    "    for key in volume:\n",
    "        keys += 1\n",
    "    if keys != 14:\n",
    "        print(volume[\"identifier\"])"
   ]
  },
  {
   "cell_type": "code",
   "execution_count": null,
   "id": "decreased-compiler",
   "metadata": {},
   "outputs": [
    {
     "name": "stdout",
     "output_type": "stream",
     "text": [
      "435259\n",
      "title\n",
      "437476\n",
      "title\n",
      "437924\n",
      "title\n",
      "438434\n",
      "title\n",
      "438918\n",
      "title\n",
      "439430\n",
      "title\n",
      "439941\n",
      "title\n",
      "56975\n",
      "format\n"
     ]
    }
   ],
   "source": [
    "for volume in data[\"volumes\"]:\n",
    "    for key in volume:\n",
    "        if volume[key] == None:\n",
    "            print(volume[\"identifier\"])\n",
    "            print(key)            "
   ]
  },
  {
   "cell_type": "code",
   "execution_count": null,
   "id": "changed-greenhouse",
   "metadata": {},
   "outputs": [],
   "source": [
    "with open(\"colombia-vol.json\", 'w', encoding=\"utf-8\") as outfile:\n",
    "    json.dump(data, outfile)"
   ]
  },
  {
   "cell_type": "code",
   "execution_count": null,
   "id": "oriental-mayor",
   "metadata": {},
   "outputs": [
    {
     "data": {
      "text/plain": [
       "30"
      ]
     },
     "execution_count": null,
     "metadata": {},
     "output_type": "execute_result"
    }
   ],
   "source": [
    "files = [\"us\"]\n",
    "\n",
    "first_file = True\n",
    "\n",
    "for file in files:\n",
    "    with open(file + \".json\", encoding=\"utf-8\") as jsonfile:\n",
    "        if first_file:\n",
    "            first_file = False\n",
    "            data = json.load(jsonfile)\n",
    "        else:\n",
    "            temp = json.load(jsonfile)\n",
    "            for volume in temp[\"volumes\"]:\n",
    "                data[\"volumes\"].append(volume)\n",
    "\n",
    "len(data[\"volumes\"])"
   ]
  },
  {
   "cell_type": "code",
   "execution_count": null,
   "id": "grateful-maine",
   "metadata": {},
   "outputs": [
    {
     "name": "stdout",
     "output_type": "stream",
     "text": [
      "Baptisms, Burials and Marriages - 16th & 17th Centuries\n",
      "Baptisms, Burials, Confirmations and Marriages - 16th & 17th Centuries\n",
      "Marriages - 1632-1720\n",
      "Miscellaneous - 17th, 18th, and 19th Centuries\n",
      "Baptisms and Marriages  - 18th Century\n",
      "Multi-Source Index\n",
      "Golden Book of the Minorcans - 18th Century\n",
      "Marriages - 1784-1801\n",
      "Marriages - 1784-1882\n",
      "Marriages - 1802-1832\n"
     ]
    }
   ],
   "source": [
    "subjects = []\n",
    "\n",
    "for volume in data[\"volumes\"]:\n",
    "    if (\"subject\" in volume) and (volume[\"subject\"] != None) and (\"Marriages\" in volume[\"subject\"]):\n",
    "        print(volume[\"title\"])"
   ]
  },
  {
   "cell_type": "code",
   "execution_count": 1,
   "id": "treated-flooring",
   "metadata": {},
   "outputs": [],
   "source": [
    "import boto3\n",
    "s3_resource = boto3.resource('s3')\n",
    "s3_client = boto3.client('s3')"
   ]
  },
  {
   "cell_type": "code",
   "execution_count": 2,
   "id": "respected-profile",
   "metadata": {},
   "outputs": [
    {
     "name": "stdout",
     "output_type": "stream",
     "text": [
      "527471\n"
     ]
    }
   ],
   "source": [
    "assets = s3_resource.Bucket(\"ssda-production-jpgs\")\n",
    "\n",
    "count = 0\n",
    "\n",
    "for obj in assets.objects.all():\n",
    "    count += 1\n",
    "    \n",
    "print(count)"
   ]
  },
  {
   "cell_type": "code",
   "execution_count": null,
   "id": "african-monster",
   "metadata": {},
   "outputs": [
    {
     "name": "stdout",
     "output_type": "stream",
     "text": [
      "cf-templates-p1z5vs60c99o-us-east-1\n",
      "slavesocieties.org\n",
      "ssda-archive\n",
      "ssda-assets\n",
      "ssda-restricted\n",
      "ssda-scrape-test\n",
      "ssda-segmentation\n",
      "ssda-web-content\n",
      "textract-console-us-east-2-f70bc6e3-9123-451b-ab05-e63d200d0dd9\n"
     ]
    }
   ],
   "source": [
    "for bucket in s3_resource.buckets.all():\n",
    "    print(bucket.name)           "
   ]
  },
  {
   "cell_type": "code",
   "execution_count": null,
   "id": "coupled-basic",
   "metadata": {},
   "outputs": [
    {
     "name": "stdout",
     "output_type": "stream",
     "text": [
      "['images/', 'images/benin/', 'images/benin/22881570571_828b5bfcee_b.jpg', 'images/benin/26benin6-superJumbo.jpg', 'images/benin/Abomey Calavi amigos 04.JPG']\n"
     ]
    }
   ],
   "source": [
    "for bucket in s3_resource.buckets.all():    \n",
    "    if bucket.name == \"ssda-web-content\":\n",
    "        summaries = bucket.objects.all()\n",
    "        files = []\n",
    "        for file in summaries:\n",
    "            files.append(file.key)\n",
    "        print(files[:5])"
   ]
  },
  {
   "cell_type": "code",
   "execution_count": null,
   "id": "minor-crest",
   "metadata": {},
   "outputs": [],
   "source": [
    "for bucket in s3_resource.buckets.all():    \n",
    "    if bucket.name == \"ssda-web-content\":\n",
    "        summaries = bucket.objects.all()        \n",
    "        for file in summaries:\n",
    "            if file.key == 'images/benin/26benin6-superJumbo.jpg':\n",
    "                s3_client.download_file(bucket.name, file.key, \"test.jpg\")"
   ]
  },
  {
   "cell_type": "code",
   "execution_count": null,
   "id": "intimate-coach",
   "metadata": {},
   "outputs": [
    {
     "data": {
      "text/plain": [
       "{'ResponseMetadata': {'RequestId': 'ZK2TNVTNZQPH1NKD',\n",
       "  'HostId': 'FNv1N1z9r7IklBAm0Y+RW5wW3Uust5w6vvEjgM3atBqdSPnqc9vPABrRz4ADGb204ORuLokv2x0=',\n",
       "  'HTTPStatusCode': 200,\n",
       "  'HTTPHeaders': {'x-amz-id-2': 'FNv1N1z9r7IklBAm0Y+RW5wW3Uust5w6vvEjgM3atBqdSPnqc9vPABrRz4ADGb204ORuLokv2x0=',\n",
       "   'x-amz-request-id': 'ZK2TNVTNZQPH1NKD',\n",
       "   'date': 'Wed, 17 Mar 2021 21:53:16 GMT',\n",
       "   'location': '/ssda-scrape-test',\n",
       "   'content-length': '0',\n",
       "   'server': 'AmazonS3'},\n",
       "  'RetryAttempts': 0},\n",
       " 'Location': '/ssda-scrape-test'}"
      ]
     },
     "execution_count": null,
     "metadata": {},
     "output_type": "execute_result"
    }
   ],
   "source": [
    "s3_client.create_bucket(Bucket=\"ssda-scrape-test\")"
   ]
  },
  {
   "cell_type": "code",
   "execution_count": null,
   "id": "continued-transcription",
   "metadata": {},
   "outputs": [
    {
     "name": "stdout",
     "output_type": "stream",
     "text": [
      "images/benin/\n",
      "images/benin/22881570571_828b5bfcee_b.jpg\n",
      "images/benin/26benin6-superJumbo.jpg\n",
      "images/benin/Abomey Calavi amigos 04.JPG\n",
      "images/benin/Abomey Calavi amigos 09.JPG\n",
      "images/benin/Ajudá estrada .JPG\n",
      "images/benin/Ajudácafetria kilombo.JPG\n",
      "images/benin/Benim  Abomey mercado.jpg\n",
      "images/benin/Benin, Floresta sagrada templo 01.JPG\n",
      "images/benin/Benin-Royaume-De-Ouidah-1764-Carte-1.jpg\n",
      "images/benin/Cha Cha.jpeg\n",
      "images/benin/Cite Historique de Ouidah sign.jpg\n",
      "images/benin/Floresta sagrada 01.JPG\n",
      "images/benin/Fortwilliamwhydah.jpg\n",
      "images/benin/Ivory mask of Oba of Benin.jpg\n",
      "images/benin/Jane & Elisee Abomey Calavi .JPG\n",
      "images/benin/Porto  Novo Jardim 01.JPG\n",
      "images/benin/bandeira Adandozan.jpg\n",
      "images/benin/beach-monument.jpg\n"
     ]
    }
   ],
   "source": [
    "bucket = s3_resource.Bucket(\"ssda-web-content\")\n",
    "for obj in bucket.objects.filter(Prefix = \"images/benin\"):\n",
    "    print(obj.key)"
   ]
  },
  {
   "cell_type": "code",
   "execution_count": null,
   "id": "mysterious-creek",
   "metadata": {},
   "outputs": [
    {
     "name": "stdout",
     "output_type": "stream",
     "text": [
      "143\n"
     ]
    }
   ],
   "source": [
    "assets = s3_resource.Bucket(\"ssda-assets\")\n",
    "images = []\n",
    "for obj in assets.objects.filter(Prefix = \"Cuba/Cienfuegos/Cienfuegos/Catedral_de_Nuestra_Señora_de_la_Purísima_Concepción/166470/JPG\"):\n",
    "    images.append(obj)\n",
    "print(len(images))"
   ]
  },
  {
   "cell_type": "code",
   "execution_count": null,
   "id": "disturbed-winner",
   "metadata": {},
   "outputs": [
    {
     "name": "stdout",
     "output_type": "stream",
     "text": [
      "Brazil/Minas_Gerais/Nova_Lima/Nossa_Senhora_do_Pilar/2223\n",
      "Brazil/Minas_Gerais/Nova_Lima/Nossa_Senhora_do_Pilar/39001\n",
      "Brazil/Minas_Gerais/Nova_Lima/Nossa_Senhora_do_Pilar/39003\n",
      "Brazil/Minas_Gerais/Nova_Lima/Nossa_Senhora_do_Pilar/39005\n",
      "Brazil/Minas_Gerais/Nova_Lima/Nossa_Senhora_do_Pilar/39008\n",
      "Brazil/Minas_Gerais/Nova_Lima/Nossa_Senhora_do_Pilar/39013\n",
      "Brazil/Minas_Gerais/Nova_Lima/Nossa_Senhora_do_Pilar/39016\n",
      "Brazil/Minas_Gerais/Nova_Lima/Nossa_Senhora_do_Pilar/39019\n",
      "Brazil/Minas_Gerais/Nova_Lima/Nossa_Senhora_do_Pilar/39021\n",
      "Brazil/Paraíba/João_Pessoa/Arquivo_Histórico_do_Estado_da_Paraíba/315081/CR2\n",
      "Brazil/Paraíba/João_Pessoa/Arquivo_Histórico_do_Estado_da_Paraíba/315492/CR2\n",
      "['2223', '39001', '39003', '39005', '39008', '39013', '39016', '39019', '39021', '315081', '315492']\n"
     ]
    }
   ],
   "source": [
    "assets = s3_resource.Bucket(\"ssda-assets\")\n",
    "prefix = \"Brazil/Minas_Gerais/Nova_Lima/Nossa_Senhora_do_Pilar/\"\n",
    "count = 0\n",
    "volume_ids = []\n",
    "\n",
    "for obj in assets.objects.all():\n",
    "    if len(obj.key.split('/')) >= 5:\n",
    "        if obj.key.split('/')[4] not in volume_ids:\n",
    "            volume_ids.append(obj.key.split('/')[4])\n",
    "            volume_root = obj.key[:obj.key.rfind('/')]\n",
    "            print(volume_root)\n",
    "            if len(volume_ids) > 10:\n",
    "                break\n",
    "                \n",
    "print(volume_ids)"
   ]
  },
  {
   "cell_type": "code",
   "execution_count": null,
   "id": "impressive-somewhere",
   "metadata": {},
   "outputs": [
    {
     "name": "stdout",
     "output_type": "stream",
     "text": [
      "Brazil/Minas_Gerais/Nova_Lima/Nossa_Senhora_do_Pilar/2223/2223.pdf\n",
      "Brazil/Minas_Gerais/Nova_Lima/Nossa_Senhora_do_Pilar/2223/JPG/1001.JPG\n",
      "Brazil/Minas_Gerais/Nova_Lima/Nossa_Senhora_do_Pilar/2223/JPG/1002.JPG\n",
      "Brazil/Minas_Gerais/Nova_Lima/Nossa_Senhora_do_Pilar/2223/JPG/1003.JPG\n",
      "Brazil/Minas_Gerais/Nova_Lima/Nossa_Senhora_do_Pilar/2223/JPG/1004.JPG\n",
      "Brazil/Minas_Gerais/Nova_Lima/Nossa_Senhora_do_Pilar/2223/JPG/1005.JPG\n",
      "Brazil/Minas_Gerais/Nova_Lima/Nossa_Senhora_do_Pilar/2223/JPG/1006.JPG\n",
      "Brazil/Minas_Gerais/Nova_Lima/Nossa_Senhora_do_Pilar/2223/JPG/1007.JPG\n",
      "Brazil/Minas_Gerais/Nova_Lima/Nossa_Senhora_do_Pilar/2223/JPG/1008.JPG\n",
      "Brazil/Minas_Gerais/Nova_Lima/Nossa_Senhora_do_Pilar/2223/JPG/1009.JPG\n"
     ]
    }
   ],
   "source": [
    "for obj in assets.objects.filter(Prefix = \"Brazil/Minas_Gerais/Nova_Lima\"):\n",
    "    if count > 30:\n",
    "        break\n",
    "    print(obj.key)\n",
    "    count += 1"
   ]
  },
  {
   "cell_type": "code",
   "execution_count": null,
   "id": "unlimited-isaac",
   "metadata": {},
   "outputs": [],
   "source": [
    "volume_prefix = \"Cuba/La_Habana/Havana/Arzobispado_de_la_Habana/30173/\"\n",
    "\n",
    "for obj in assets.objects.filter(Prefix = volume_prefix):\n",
    "    if \"DC\" in obj.key:\n",
    "        s3_client.download_file(assets.name, obj.key, \"temp.xml\")"
   ]
  },
  {
   "cell_type": "code",
   "execution_count": null,
   "id": "imported-prophet",
   "metadata": {},
   "outputs": [
    {
     "name": "stdout",
     "output_type": "stream",
     "text": [
      "\n",
      "\n",
      "<oai_dc xmlns:dc=\"http://purl.org/dc/elements/1.1/\" xmlns:oai_dc=\"http://www.openarchives.org/OAI/2.0/oai_dc/\" xmlns:xsi=\"http://www.w3.org/2001/XMLSchema-instance\" xsi:schemaLocation=\"http://www.openarchives.org/OAI/2.0/oai_dc/ http://www.openarchives.org/OAI/2.0/oai_dc.xsd\">\n",
      "\n",
      "  <title>Legajo 5, Exp. 17, No. 24. Expediente promovido por los individuos de color JosÃ© de los Reyes...1878</title>\n",
      "\n",
      "  <subject></subject>\n",
      "\n",
      "  <description>Expediente promovido por los individuos de color JosÃ© de los Reyes, Junco y Enrique Prince y demÃ¡s vecinos de la ciudad de San Carlos de Matanzas solicitando establecer una ArchicofradÃ­a a la S(an)t(issi)ma Virgen de las Mercedes en la parroquia de San Juan de Pueblo, Nuevo de dicha ciudad de Matanzas, incluyendo los Estatudos p(ar)a su probaciÃ³n. 1878.</description>\n",
      "\n",
      "  <date>1878</date>\n",
      "\n",
      "  <type>Text</type>\n",
      "\n",
      "  <source>Arzobispado de la Habana</source><identifier>essss:30173</identifier><date>1878</date>\n",
      "\n",
      "  <type>Text</type>\n",
      "\n",
      "  <identifier>essss:30173</identifier>\n",
      "\n",
      "  <language>spa</language>\n",
      "\n",
      "  <coverage>North America--Cuba--San Carlos y San Severino de Matanzas</coverage>\n",
      "\n",
      "  <coverage>23.03782, -81.57675</coverage>\n",
      "\n",
      "</oai_dc>\n",
      "\n"
     ]
    }
   ],
   "source": [
    "with open(\"temp.xml\", 'r') as infile:\n",
    "    for line in infile:\n",
    "        print(line)"
   ]
  },
  {
   "cell_type": "code",
   "execution_count": null,
   "id": "prescription-reference",
   "metadata": {},
   "outputs": [],
   "source": [
    "import xml.etree.ElementTree as ET "
   ]
  },
  {
   "cell_type": "code",
   "execution_count": null,
   "id": "tender-stylus",
   "metadata": {},
   "outputs": [],
   "source": [
    "tree = ET.parse(\"temp.xml\")"
   ]
  },
  {
   "cell_type": "code",
   "execution_count": null,
   "id": "golden-jefferson",
   "metadata": {},
   "outputs": [
    {
     "name": "stdout",
     "output_type": "stream",
     "text": [
      "<xml.etree.ElementTree.ElementTree object at 0x000002763FC3E4C0>\n"
     ]
    }
   ],
   "source": [
    "print(tree)"
   ]
  },
  {
   "cell_type": "code",
   "execution_count": null,
   "id": "regulated-charity",
   "metadata": {},
   "outputs": [
    {
     "name": "stdout",
     "output_type": "stream",
     "text": [
      "<Element 'oai_dc' at 0x000002763F6AA0E0>\n"
     ]
    }
   ],
   "source": [
    "root = tree.getroot()\n",
    "print(root)"
   ]
  },
  {
   "cell_type": "code",
   "execution_count": null,
   "id": "analyzed-advocate",
   "metadata": {},
   "outputs": [
    {
     "name": "stdout",
     "output_type": "stream",
     "text": [
      "<Element 'title' at 0x000002763F6AA090>\n",
      "<Element 'subject' at 0x000002763F6AAE00>\n",
      "<Element 'description' at 0x000002763F6AA900>\n",
      "<Element 'date' at 0x000002763F6AAD60>\n",
      "<Element 'type' at 0x000002763F6AAF90>\n",
      "<Element 'source' at 0x000002763F6AA310>\n",
      "<Element 'identifier' at 0x000002763F6AA360>\n",
      "<Element 'date' at 0x000002763F6AA680>\n",
      "<Element 'type' at 0x000002763F6AA4F0>\n",
      "<Element 'identifier' at 0x000002763F6AAA90>\n",
      "<Element 'language' at 0x000002763F6AA220>\n",
      "<Element 'coverage' at 0x000002763F6AAC70>\n",
      "<Element 'coverage' at 0x000002763F6AA770>\n"
     ]
    }
   ],
   "source": [
    "for item in root:\n",
    "    print(item)"
   ]
  },
  {
   "cell_type": "code",
   "execution_count": null,
   "id": "controlling-providence",
   "metadata": {},
   "outputs": [],
   "source": [
    "for item in root:\n",
    "    for child in item:\n",
    "        print(child)"
   ]
  },
  {
   "cell_type": "code",
   "execution_count": null,
   "id": "signal-makeup",
   "metadata": {},
   "outputs": [
    {
     "name": "stdout",
     "output_type": "stream",
     "text": [
      "title\n",
      "subject\n",
      "description\n",
      "date\n",
      "type\n",
      "source\n",
      "identifier\n",
      "date\n",
      "type\n",
      "identifier\n",
      "language\n",
      "coverage\n",
      "coverage\n"
     ]
    }
   ],
   "source": [
    "for item in root:\n",
    "    print(item.tag)"
   ]
  },
  {
   "cell_type": "code",
   "execution_count": null,
   "id": "irish-equity",
   "metadata": {},
   "outputs": [
    {
     "name": "stdout",
     "output_type": "stream",
     "text": [
      "{}\n",
      "{}\n",
      "{}\n",
      "{}\n",
      "{}\n",
      "{}\n",
      "{}\n",
      "{}\n",
      "{}\n",
      "{}\n",
      "{}\n",
      "{}\n",
      "{}\n"
     ]
    }
   ],
   "source": [
    "for item in root:\n",
    "    print(item.attrib)"
   ]
  },
  {
   "cell_type": "code",
   "execution_count": null,
   "id": "incorporate-minnesota",
   "metadata": {},
   "outputs": [
    {
     "name": "stdout",
     "output_type": "stream",
     "text": [
      "Legajo 5, Exp. 17, No. 24. Expediente promovido por los individuos de color José de los Reyes...1878\n",
      "None\n",
      "Expediente promovido por los individuos de color José de los Reyes, Junco y Enrique Prince y demás vecinos de la ciudad de San Carlos de Matanzas solicitando establecer una Archicofradía a la S(an)t(issi)ma Virgen de las Mercedes en la parroquia de San Juan de Pueblo, Nuevo de dicha ciudad de Matanzas, incluyendo los Estatudos p(ar)a su probación. 1878.\n",
      "1878\n",
      "Text\n",
      "Arzobispado de la Habana\n",
      "essss:30173\n",
      "1878\n",
      "Text\n",
      "essss:30173\n",
      "spa\n",
      "North America--Cuba--San Carlos y San Severino de Matanzas\n",
      "23.03782, -81.57675\n"
     ]
    }
   ],
   "source": [
    "for item in root:\n",
    "    print(item.text)"
   ]
  },
  {
   "cell_type": "code",
   "execution_count": null,
   "id": "limiting-improvement",
   "metadata": {},
   "outputs": [
    {
     "name": "stdout",
     "output_type": "stream",
     "text": [
      "{'title': 'Legajo 5, Exp. 17, No. 24. Expediente promovido por los individuos de color José de los Reyes...1878', 'subject': None, 'description': 'Expediente promovido por los individuos de color José de los Reyes, Junco y Enrique Prince y demás vecinos de la ciudad de San Carlos de Matanzas solicitando establecer una Archicofradía a la S(an)t(issi)ma Virgen de las Mercedes en la parroquia de San Juan de Pueblo, Nuevo de dicha ciudad de Matanzas, incluyendo los Estatudos p(ar)a su probación. 1878.', 'date': '1878', 'type': 'Text', 'source': 'Arzobispado de la Habana', 'identifier': 'essss:30173', 'language': 'spa', 'coverage': '23.03782, -81.57675'}\n"
     ]
    }
   ],
   "source": [
    "volume_dict = {}\n",
    "for item in root:\n",
    "    volume_dict[item.tag] = item.text\n",
    "print(volume_dict)"
   ]
  },
  {
   "cell_type": "code",
   "execution_count": null,
   "id": "differential-channels",
   "metadata": {},
   "outputs": [],
   "source": [
    "import xml.etree.ElementTree as ET\n",
    "\n",
    "def ssda_volume_xml_to_dict(volume_xml, s3_path):\n",
    "    tree = ET.parse(\"temp.xml\")\n",
    "    root = tree.getroot()\n",
    "    volume_dict = {}\n",
    "    for item in root:\n",
    "        if item.text == None:\n",
    "            continue\n",
    "        if item.text[0] == ' ':\n",
    "            item.text = item.text[1:]        \n",
    "        if item.tag == \"subject\":\n",
    "            if \"subject\" in volume_dict:\n",
    "                volume_dict[\"subject\"].append(item.text.split(\"--\"))\n",
    "            else:\n",
    "                volume_dict[\"subject\"] = item.text.split(\"--\")\n",
    "        elif item.tag == \"contributor\":\n",
    "            name = item.text[:item.text.find('(')]\n",
    "            role = item.text[item.text.find('(') + 1:item.text.find(')')]\n",
    "            if \"contributor\" in volume_dict:\n",
    "                volume_dict[\"contributor\"].append({\"name\": name, \"role\": role})\n",
    "            else:\n",
    "                volume_dict[\"contributor\"] = [{\"name\": name, \"role\": role}]\n",
    "        elif item.tag == \"identifier\":\n",
    "            volume_dict[\"identifier\"] = item.text[item.text.find(':') + 1:]\n",
    "        elif item.tag == \"coverage\":\n",
    "            if ('.' in item.text) and (',' in item.text):\n",
    "                if \"coverage\" in volume_dict:\n",
    "                    volume_dict[\"coverage\"][\"coords\"] = item.text\n",
    "                else:\n",
    "                    volume_dict[\"coverage\"] = {\"coords\": item.text}\n",
    "            elif \"--\" in item.text:\n",
    "                places = item.text.split(\"--\")\n",
    "                if len(places) == 4:\n",
    "                    if \"coverage\" in volume_dict:\n",
    "                        volume_dict[\"coverage\"][\"country\"] = places[1]\n",
    "                        volume_dict[\"coverage\"][\"state\"] = places[2]\n",
    "                        volume_dict[\"coverage\"][\"city\"] = places[3]\n",
    "                    else:\n",
    "                        volume_dict[\"coverage\"] = {\"country\": places[1], \"state\": places[2], \"city\": places[3]}                \n",
    "        elif item.tag == \"source\":\n",
    "            if \"coverage\" in volume_dict:\n",
    "                volume_dict[\"coverage\"][\"institution\"] = item.text\n",
    "            else:\n",
    "                volume_dict[\"coverage\"] = {\"institution\": item.text}\n",
    "        else:\n",
    "            if item.tag in volume_dict:\n",
    "                if type(volume_dict[item.tag]) is list:\n",
    "                    volume_dict[item.tag].append(item.text)\n",
    "                else:\n",
    "                    volume_dict[item.tag] = [volume_dict[item.tag]]\n",
    "                    volume_dict[item.tag].append(item.text)\n",
    "            else:\n",
    "                volume_dict[item.tag] = item.text\n",
    "                \n",
    "        volume_dict[\"s3_path\"] = s3_path\n",
    "        \n",
    "    return volume_dict"
   ]
  },
  {
   "cell_type": "code",
   "execution_count": null,
   "id": "adopted-holmes",
   "metadata": {},
   "outputs": [
    {
     "ename": "IndexError",
     "evalue": "list index out of range",
     "output_type": "error",
     "traceback": [
      "\u001b[1;31m---------------------------------------------------------------------------\u001b[0m",
      "\u001b[1;31mIndexError\u001b[0m                                Traceback (most recent call last)",
      "\u001b[1;32m<ipython-input-90-f538f740427c>\u001b[0m in \u001b[0;36m<module>\u001b[1;34m\u001b[0m\n\u001b[1;32m----> 1\u001b[1;33m \u001b[0mssda_volume_xml_to_dict\u001b[0m\u001b[1;33m(\u001b[0m\u001b[1;34m\"temp.xml\"\u001b[0m\u001b[1;33m)\u001b[0m\u001b[1;33m\u001b[0m\u001b[1;33m\u001b[0m\u001b[0m\n\u001b[0m",
      "\u001b[1;32m<ipython-input-89-e1852ae26251>\u001b[0m in \u001b[0;36mssda_volume_xml_to_dict\u001b[1;34m(volume_xml)\u001b[0m\n\u001b[0;32m     35\u001b[0m                     \u001b[0mvolume_dict\u001b[0m\u001b[1;33m[\u001b[0m\u001b[1;34m\"coverage\"\u001b[0m\u001b[1;33m]\u001b[0m\u001b[1;33m[\u001b[0m\u001b[1;34m\"country\"\u001b[0m\u001b[1;33m]\u001b[0m \u001b[1;33m=\u001b[0m \u001b[0mplaces\u001b[0m\u001b[1;33m[\u001b[0m\u001b[1;36m1\u001b[0m\u001b[1;33m]\u001b[0m\u001b[1;33m\u001b[0m\u001b[1;33m\u001b[0m\u001b[0m\n\u001b[0;32m     36\u001b[0m                     \u001b[0mvolume_dict\u001b[0m\u001b[1;33m[\u001b[0m\u001b[1;34m\"coverage\"\u001b[0m\u001b[1;33m]\u001b[0m\u001b[1;33m[\u001b[0m\u001b[1;34m\"state\"\u001b[0m\u001b[1;33m]\u001b[0m \u001b[1;33m=\u001b[0m \u001b[0mplaces\u001b[0m\u001b[1;33m[\u001b[0m\u001b[1;36m2\u001b[0m\u001b[1;33m]\u001b[0m\u001b[1;33m\u001b[0m\u001b[1;33m\u001b[0m\u001b[0m\n\u001b[1;32m---> 37\u001b[1;33m                     \u001b[0mvolume_dict\u001b[0m\u001b[1;33m[\u001b[0m\u001b[1;34m\"coverage\"\u001b[0m\u001b[1;33m]\u001b[0m\u001b[1;33m[\u001b[0m\u001b[1;34m\"city\"\u001b[0m\u001b[1;33m]\u001b[0m \u001b[1;33m=\u001b[0m \u001b[0mplaces\u001b[0m\u001b[1;33m[\u001b[0m\u001b[1;36m3\u001b[0m\u001b[1;33m]\u001b[0m\u001b[1;33m\u001b[0m\u001b[1;33m\u001b[0m\u001b[0m\n\u001b[0m\u001b[0;32m     38\u001b[0m                 \u001b[1;32melse\u001b[0m\u001b[1;33m:\u001b[0m\u001b[1;33m\u001b[0m\u001b[1;33m\u001b[0m\u001b[0m\n\u001b[0;32m     39\u001b[0m                     \u001b[0mvolume_dict\u001b[0m\u001b[1;33m[\u001b[0m\u001b[1;34m\"coverage\"\u001b[0m\u001b[1;33m]\u001b[0m \u001b[1;33m=\u001b[0m \u001b[1;33m{\u001b[0m\u001b[1;34m\"country\"\u001b[0m\u001b[1;33m:\u001b[0m \u001b[0mplaces\u001b[0m\u001b[1;33m[\u001b[0m\u001b[1;36m1\u001b[0m\u001b[1;33m]\u001b[0m\u001b[1;33m,\u001b[0m \u001b[1;34m\"state\"\u001b[0m\u001b[1;33m:\u001b[0m \u001b[0mplaces\u001b[0m\u001b[1;33m[\u001b[0m\u001b[1;36m2\u001b[0m\u001b[1;33m]\u001b[0m\u001b[1;33m,\u001b[0m \u001b[1;34m\"city\"\u001b[0m\u001b[1;33m:\u001b[0m \u001b[0mplaces\u001b[0m\u001b[1;33m[\u001b[0m\u001b[1;36m3\u001b[0m\u001b[1;33m]\u001b[0m\u001b[1;33m}\u001b[0m\u001b[1;33m\u001b[0m\u001b[1;33m\u001b[0m\u001b[0m\n",
      "\u001b[1;31mIndexError\u001b[0m: list index out of range"
     ]
    }
   ],
   "source": [
    "ssda_volume_xml_to_dict(\"temp.xml\")"
   ]
  },
  {
   "cell_type": "code",
   "execution_count": null,
   "id": "relative-programmer",
   "metadata": {},
   "outputs": [
    {
     "name": "stdout",
     "output_type": "stream",
     "text": [
      "Cuba/Cienfuegos/Cienfuegos/Catedral_de_Nuestra_Señora_de_la_Purísima_Concepción/166470/JPG/1001.JPG\n",
      "Cuba/Cienfuegos/Cienfuegos/Catedral_de_Nuestra_Señora_de_la_Purísima_Concepción/166470/JPG/1002.JPG\n",
      "Cuba/Cienfuegos/Cienfuegos/Catedral_de_Nuestra_Señora_de_la_Purísima_Concepción/166470/JPG/1003.JPG\n",
      "Cuba/Cienfuegos/Cienfuegos/Catedral_de_Nuestra_Señora_de_la_Purísima_Concepción/166470/JPG/1004.JPG\n",
      "Cuba/Cienfuegos/Cienfuegos/Catedral_de_Nuestra_Señora_de_la_Purísima_Concepción/166470/JPG/1005.JPG\n",
      "Cuba/Cienfuegos/Cienfuegos/Catedral_de_Nuestra_Señora_de_la_Purísima_Concepción/166470/JPG/1006.JPG\n",
      "Cuba/Cienfuegos/Cienfuegos/Catedral_de_Nuestra_Señora_de_la_Purísima_Concepción/166470/JPG/1007.JPG\n",
      "Cuba/Cienfuegos/Cienfuegos/Catedral_de_Nuestra_Señora_de_la_Purísima_Concepción/166470/JPG/1008.JPG\n",
      "Cuba/Cienfuegos/Cienfuegos/Catedral_de_Nuestra_Señora_de_la_Purísima_Concepción/166470/JPG/1009.JPG\n",
      "Cuba/Cienfuegos/Cienfuegos/Catedral_de_Nuestra_Señora_de_la_Purísima_Concepción/166470/JPG/1010.JPG\n",
      "Cuba/Cienfuegos/Cienfuegos/Catedral_de_Nuestra_Señora_de_la_Purísima_Concepción/166470/JPG/1011.JPG\n",
      "Cuba/Cienfuegos/Cienfuegos/Catedral_de_Nuestra_Señora_de_la_Purísima_Concepción/166470/JPG/1012.JPG\n",
      "Cuba/Cienfuegos/Cienfuegos/Catedral_de_Nuestra_Señora_de_la_Purísima_Concepción/166470/JPG/1013.JPG\n",
      "Cuba/Cienfuegos/Cienfuegos/Catedral_de_Nuestra_Señora_de_la_Purísima_Concepción/166470/JPG/1014.JPG\n",
      "Cuba/Cienfuegos/Cienfuegos/Catedral_de_Nuestra_Señora_de_la_Purísima_Concepción/166470/JPG/1015.JPG\n",
      "Cuba/Cienfuegos/Cienfuegos/Catedral_de_Nuestra_Señora_de_la_Purísima_Concepción/166470/JPG/1016.JPG\n",
      "Cuba/Cienfuegos/Cienfuegos/Catedral_de_Nuestra_Señora_de_la_Purísima_Concepción/166470/JPG/1017.JPG\n",
      "Cuba/Cienfuegos/Cienfuegos/Catedral_de_Nuestra_Señora_de_la_Purísima_Concepción/166470/JPG/1018.JPG\n",
      "Cuba/Cienfuegos/Cienfuegos/Catedral_de_Nuestra_Señora_de_la_Purísima_Concepción/166470/JPG/1019.JPG\n",
      "Cuba/Cienfuegos/Cienfuegos/Catedral_de_Nuestra_Señora_de_la_Purísima_Concepción/166470/JPG/1020.JPG\n",
      "Cuba/Cienfuegos/Cienfuegos/Catedral_de_Nuestra_Señora_de_la_Purísima_Concepción/166470/JPG/1021.JPG\n",
      "Cuba/Cienfuegos/Cienfuegos/Catedral_de_Nuestra_Señora_de_la_Purísima_Concepción/166470/JPG/1022.JPG\n",
      "Cuba/Cienfuegos/Cienfuegos/Catedral_de_Nuestra_Señora_de_la_Purísima_Concepción/166470/JPG/1023.JPG\n",
      "Cuba/Cienfuegos/Cienfuegos/Catedral_de_Nuestra_Señora_de_la_Purísima_Concepción/166470/JPG/1024.JPG\n",
      "Cuba/Cienfuegos/Cienfuegos/Catedral_de_Nuestra_Señora_de_la_Purísima_Concepción/166470/JPG/1025.JPG\n",
      "Cuba/Cienfuegos/Cienfuegos/Catedral_de_Nuestra_Señora_de_la_Purísima_Concepción/166470/JPG/1026.JPG\n",
      "Cuba/Cienfuegos/Cienfuegos/Catedral_de_Nuestra_Señora_de_la_Purísima_Concepción/166470/JPG/1027.JPG\n",
      "Cuba/Cienfuegos/Cienfuegos/Catedral_de_Nuestra_Señora_de_la_Purísima_Concepción/166470/JPG/1028.JPG\n",
      "Cuba/Cienfuegos/Cienfuegos/Catedral_de_Nuestra_Señora_de_la_Purísima_Concepción/166470/JPG/1029.JPG\n",
      "Cuba/Cienfuegos/Cienfuegos/Catedral_de_Nuestra_Señora_de_la_Purísima_Concepción/166470/JPG/1030.JPG\n",
      "Cuba/Cienfuegos/Cienfuegos/Catedral_de_Nuestra_Señora_de_la_Purísima_Concepción/166470/JPG/1031.JPG\n",
      "Cuba/Cienfuegos/Cienfuegos/Catedral_de_Nuestra_Señora_de_la_Purísima_Concepción/166470/JPG/1032.JPG\n",
      "Cuba/Cienfuegos/Cienfuegos/Catedral_de_Nuestra_Señora_de_la_Purísima_Concepción/166470/JPG/1033.JPG\n",
      "Cuba/Cienfuegos/Cienfuegos/Catedral_de_Nuestra_Señora_de_la_Purísima_Concepción/166470/JPG/1034.JPG\n",
      "Cuba/Cienfuegos/Cienfuegos/Catedral_de_Nuestra_Señora_de_la_Purísima_Concepción/166470/JPG/1035.JPG\n",
      "Cuba/Cienfuegos/Cienfuegos/Catedral_de_Nuestra_Señora_de_la_Purísima_Concepción/166470/JPG/1036.JPG\n",
      "Cuba/Cienfuegos/Cienfuegos/Catedral_de_Nuestra_Señora_de_la_Purísima_Concepción/166470/JPG/1037.JPG\n",
      "Cuba/Cienfuegos/Cienfuegos/Catedral_de_Nuestra_Señora_de_la_Purísima_Concepción/166470/JPG/1038.JPG\n",
      "Cuba/Cienfuegos/Cienfuegos/Catedral_de_Nuestra_Señora_de_la_Purísima_Concepción/166470/JPG/1039.JPG\n",
      "Cuba/Cienfuegos/Cienfuegos/Catedral_de_Nuestra_Señora_de_la_Purísima_Concepción/166470/JPG/1040.JPG\n",
      "Cuba/Cienfuegos/Cienfuegos/Catedral_de_Nuestra_Señora_de_la_Purísima_Concepción/166470/JPG/1041.JPG\n",
      "Cuba/Cienfuegos/Cienfuegos/Catedral_de_Nuestra_Señora_de_la_Purísima_Concepción/166470/JPG/1042.JPG\n",
      "Cuba/Cienfuegos/Cienfuegos/Catedral_de_Nuestra_Señora_de_la_Purísima_Concepción/166470/JPG/1043.JPG\n",
      "Cuba/Cienfuegos/Cienfuegos/Catedral_de_Nuestra_Señora_de_la_Purísima_Concepción/166470/JPG/1044.JPG\n",
      "Cuba/Cienfuegos/Cienfuegos/Catedral_de_Nuestra_Señora_de_la_Purísima_Concepción/166470/JPG/1045.JPG\n",
      "Cuba/Cienfuegos/Cienfuegos/Catedral_de_Nuestra_Señora_de_la_Purísima_Concepción/166470/JPG/1046.JPG\n",
      "Cuba/Cienfuegos/Cienfuegos/Catedral_de_Nuestra_Señora_de_la_Purísima_Concepción/166470/JPG/1047.JPG\n",
      "Cuba/Cienfuegos/Cienfuegos/Catedral_de_Nuestra_Señora_de_la_Purísima_Concepción/166470/JPG/1048.JPG\n",
      "Cuba/Cienfuegos/Cienfuegos/Catedral_de_Nuestra_Señora_de_la_Purísima_Concepción/166470/JPG/1049.JPG\n",
      "Cuba/Cienfuegos/Cienfuegos/Catedral_de_Nuestra_Señora_de_la_Purísima_Concepción/166470/JPG/1050.JPG\n",
      "Cuba/Cienfuegos/Cienfuegos/Catedral_de_Nuestra_Señora_de_la_Purísima_Concepción/166470/JPG/1051.JPG\n",
      "Cuba/Cienfuegos/Cienfuegos/Catedral_de_Nuestra_Señora_de_la_Purísima_Concepción/166470/JPG/1052.JPG\n",
      "Cuba/Cienfuegos/Cienfuegos/Catedral_de_Nuestra_Señora_de_la_Purísima_Concepción/166470/JPG/1053.JPG\n",
      "Cuba/Cienfuegos/Cienfuegos/Catedral_de_Nuestra_Señora_de_la_Purísima_Concepción/166470/JPG/1054.JPG\n",
      "Cuba/Cienfuegos/Cienfuegos/Catedral_de_Nuestra_Señora_de_la_Purísima_Concepción/166470/JPG/1055.JPG\n",
      "Cuba/Cienfuegos/Cienfuegos/Catedral_de_Nuestra_Señora_de_la_Purísima_Concepción/166470/JPG/1056.JPG\n",
      "Cuba/Cienfuegos/Cienfuegos/Catedral_de_Nuestra_Señora_de_la_Purísima_Concepción/166470/JPG/1057.JPG\n",
      "Cuba/Cienfuegos/Cienfuegos/Catedral_de_Nuestra_Señora_de_la_Purísima_Concepción/166470/JPG/1058.JPG\n",
      "Cuba/Cienfuegos/Cienfuegos/Catedral_de_Nuestra_Señora_de_la_Purísima_Concepción/166470/JPG/1059.JPG\n",
      "Cuba/Cienfuegos/Cienfuegos/Catedral_de_Nuestra_Señora_de_la_Purísima_Concepción/166470/JPG/1060.JPG\n",
      "Cuba/Cienfuegos/Cienfuegos/Catedral_de_Nuestra_Señora_de_la_Purísima_Concepción/166470/JPG/1061.JPG\n",
      "Cuba/Cienfuegos/Cienfuegos/Catedral_de_Nuestra_Señora_de_la_Purísima_Concepción/166470/JPG/1062.JPG\n",
      "Cuba/Cienfuegos/Cienfuegos/Catedral_de_Nuestra_Señora_de_la_Purísima_Concepción/166470/JPG/1063.JPG\n",
      "Cuba/Cienfuegos/Cienfuegos/Catedral_de_Nuestra_Señora_de_la_Purísima_Concepción/166470/JPG/1064.JPG\n",
      "Cuba/Cienfuegos/Cienfuegos/Catedral_de_Nuestra_Señora_de_la_Purísima_Concepción/166470/JPG/1065.JPG\n",
      "Cuba/Cienfuegos/Cienfuegos/Catedral_de_Nuestra_Señora_de_la_Purísima_Concepción/166470/JPG/1066.JPG\n",
      "Cuba/Cienfuegos/Cienfuegos/Catedral_de_Nuestra_Señora_de_la_Purísima_Concepción/166470/JPG/1067.JPG\n",
      "Cuba/Cienfuegos/Cienfuegos/Catedral_de_Nuestra_Señora_de_la_Purísima_Concepción/166470/JPG/1068.JPG\n",
      "Cuba/Cienfuegos/Cienfuegos/Catedral_de_Nuestra_Señora_de_la_Purísima_Concepción/166470/JPG/1069.JPG\n",
      "Cuba/Cienfuegos/Cienfuegos/Catedral_de_Nuestra_Señora_de_la_Purísima_Concepción/166470/JPG/1070.JPG\n",
      "Cuba/Cienfuegos/Cienfuegos/Catedral_de_Nuestra_Señora_de_la_Purísima_Concepción/166470/JPG/1071.JPG\n",
      "Cuba/Cienfuegos/Cienfuegos/Catedral_de_Nuestra_Señora_de_la_Purísima_Concepción/166470/JPG/1072.JPG\n",
      "Cuba/Cienfuegos/Cienfuegos/Catedral_de_Nuestra_Señora_de_la_Purísima_Concepción/166470/JPG/1073.JPG\n",
      "Cuba/Cienfuegos/Cienfuegos/Catedral_de_Nuestra_Señora_de_la_Purísima_Concepción/166470/JPG/1074.JPG\n",
      "Cuba/Cienfuegos/Cienfuegos/Catedral_de_Nuestra_Señora_de_la_Purísima_Concepción/166470/JPG/1075.JPG\n",
      "Cuba/Cienfuegos/Cienfuegos/Catedral_de_Nuestra_Señora_de_la_Purísima_Concepción/166470/JPG/1076.JPG\n",
      "Cuba/Cienfuegos/Cienfuegos/Catedral_de_Nuestra_Señora_de_la_Purísima_Concepción/166470/JPG/1077.JPG\n",
      "Cuba/Cienfuegos/Cienfuegos/Catedral_de_Nuestra_Señora_de_la_Purísima_Concepción/166470/JPG/1078.JPG\n",
      "Cuba/Cienfuegos/Cienfuegos/Catedral_de_Nuestra_Señora_de_la_Purísima_Concepción/166470/JPG/1079.JPG\n",
      "Cuba/Cienfuegos/Cienfuegos/Catedral_de_Nuestra_Señora_de_la_Purísima_Concepción/166470/JPG/1080.JPG\n",
      "Cuba/Cienfuegos/Cienfuegos/Catedral_de_Nuestra_Señora_de_la_Purísima_Concepción/166470/JPG/1081.JPG\n",
      "Cuba/Cienfuegos/Cienfuegos/Catedral_de_Nuestra_Señora_de_la_Purísima_Concepción/166470/JPG/1082.JPG\n",
      "Cuba/Cienfuegos/Cienfuegos/Catedral_de_Nuestra_Señora_de_la_Purísima_Concepción/166470/JPG/1083.JPG\n",
      "Cuba/Cienfuegos/Cienfuegos/Catedral_de_Nuestra_Señora_de_la_Purísima_Concepción/166470/JPG/1084.JPG\n",
      "Cuba/Cienfuegos/Cienfuegos/Catedral_de_Nuestra_Señora_de_la_Purísima_Concepción/166470/JPG/1085.JPG\n",
      "Cuba/Cienfuegos/Cienfuegos/Catedral_de_Nuestra_Señora_de_la_Purísima_Concepción/166470/JPG/1086.JPG\n",
      "Cuba/Cienfuegos/Cienfuegos/Catedral_de_Nuestra_Señora_de_la_Purísima_Concepción/166470/JPG/1087.JPG\n",
      "Cuba/Cienfuegos/Cienfuegos/Catedral_de_Nuestra_Señora_de_la_Purísima_Concepción/166470/JPG/1088.JPG\n",
      "Cuba/Cienfuegos/Cienfuegos/Catedral_de_Nuestra_Señora_de_la_Purísima_Concepción/166470/JPG/1089.JPG\n",
      "Cuba/Cienfuegos/Cienfuegos/Catedral_de_Nuestra_Señora_de_la_Purísima_Concepción/166470/JPG/1090.JPG\n",
      "Cuba/Cienfuegos/Cienfuegos/Catedral_de_Nuestra_Señora_de_la_Purísima_Concepción/166470/JPG/1091.JPG\n",
      "Cuba/Cienfuegos/Cienfuegos/Catedral_de_Nuestra_Señora_de_la_Purísima_Concepción/166470/JPG/1092.JPG\n",
      "Cuba/Cienfuegos/Cienfuegos/Catedral_de_Nuestra_Señora_de_la_Purísima_Concepción/166470/JPG/1093.JPG\n",
      "Cuba/Cienfuegos/Cienfuegos/Catedral_de_Nuestra_Señora_de_la_Purísima_Concepción/166470/JPG/1094.JPG\n",
      "Cuba/Cienfuegos/Cienfuegos/Catedral_de_Nuestra_Señora_de_la_Purísima_Concepción/166470/JPG/1095.JPG\n",
      "Cuba/Cienfuegos/Cienfuegos/Catedral_de_Nuestra_Señora_de_la_Purísima_Concepción/166470/JPG/1096.JPG\n",
      "Cuba/Cienfuegos/Cienfuegos/Catedral_de_Nuestra_Señora_de_la_Purísima_Concepción/166470/JPG/1097.JPG\n",
      "Cuba/Cienfuegos/Cienfuegos/Catedral_de_Nuestra_Señora_de_la_Purísima_Concepción/166470/JPG/1098.JPG\n",
      "Cuba/Cienfuegos/Cienfuegos/Catedral_de_Nuestra_Señora_de_la_Purísima_Concepción/166470/JPG/1099.JPG\n",
      "Cuba/Cienfuegos/Cienfuegos/Catedral_de_Nuestra_Señora_de_la_Purísima_Concepción/166470/JPG/1100.JPG\n",
      "Cuba/Cienfuegos/Cienfuegos/Catedral_de_Nuestra_Señora_de_la_Purísima_Concepción/166470/JPG/1101.JPG\n",
      "Cuba/Cienfuegos/Cienfuegos/Catedral_de_Nuestra_Señora_de_la_Purísima_Concepción/166470/JPG/1102.JPG\n",
      "Cuba/Cienfuegos/Cienfuegos/Catedral_de_Nuestra_Señora_de_la_Purísima_Concepción/166470/JPG/1103.JPG\n",
      "Cuba/Cienfuegos/Cienfuegos/Catedral_de_Nuestra_Señora_de_la_Purísima_Concepción/166470/JPG/1104.JPG\n",
      "Cuba/Cienfuegos/Cienfuegos/Catedral_de_Nuestra_Señora_de_la_Purísima_Concepción/166470/JPG/1105.JPG\n",
      "Cuba/Cienfuegos/Cienfuegos/Catedral_de_Nuestra_Señora_de_la_Purísima_Concepción/166470/JPG/1106.JPG\n",
      "Cuba/Cienfuegos/Cienfuegos/Catedral_de_Nuestra_Señora_de_la_Purísima_Concepción/166470/JPG/1107.JPG\n",
      "Cuba/Cienfuegos/Cienfuegos/Catedral_de_Nuestra_Señora_de_la_Purísima_Concepción/166470/JPG/1108.JPG\n",
      "Cuba/Cienfuegos/Cienfuegos/Catedral_de_Nuestra_Señora_de_la_Purísima_Concepción/166470/JPG/1109.JPG\n",
      "Cuba/Cienfuegos/Cienfuegos/Catedral_de_Nuestra_Señora_de_la_Purísima_Concepción/166470/JPG/1110.JPG\n",
      "Cuba/Cienfuegos/Cienfuegos/Catedral_de_Nuestra_Señora_de_la_Purísima_Concepción/166470/JPG/1111.JPG\n",
      "Cuba/Cienfuegos/Cienfuegos/Catedral_de_Nuestra_Señora_de_la_Purísima_Concepción/166470/JPG/1112.JPG\n",
      "Cuba/Cienfuegos/Cienfuegos/Catedral_de_Nuestra_Señora_de_la_Purísima_Concepción/166470/JPG/1113.JPG\n",
      "Cuba/Cienfuegos/Cienfuegos/Catedral_de_Nuestra_Señora_de_la_Purísima_Concepción/166470/JPG/1114.JPG\n",
      "Cuba/Cienfuegos/Cienfuegos/Catedral_de_Nuestra_Señora_de_la_Purísima_Concepción/166470/JPG/1115.JPG\n",
      "Cuba/Cienfuegos/Cienfuegos/Catedral_de_Nuestra_Señora_de_la_Purísima_Concepción/166470/JPG/1116.JPG\n",
      "Cuba/Cienfuegos/Cienfuegos/Catedral_de_Nuestra_Señora_de_la_Purísima_Concepción/166470/JPG/1117.JPG\n",
      "Cuba/Cienfuegos/Cienfuegos/Catedral_de_Nuestra_Señora_de_la_Purísima_Concepción/166470/JPG/1118.JPG\n",
      "Cuba/Cienfuegos/Cienfuegos/Catedral_de_Nuestra_Señora_de_la_Purísima_Concepción/166470/JPG/1119.JPG\n",
      "Cuba/Cienfuegos/Cienfuegos/Catedral_de_Nuestra_Señora_de_la_Purísima_Concepción/166470/JPG/1120.JPG\n",
      "Cuba/Cienfuegos/Cienfuegos/Catedral_de_Nuestra_Señora_de_la_Purísima_Concepción/166470/JPG/1121.JPG\n",
      "Cuba/Cienfuegos/Cienfuegos/Catedral_de_Nuestra_Señora_de_la_Purísima_Concepción/166470/JPG/1122.JPG\n",
      "Cuba/Cienfuegos/Cienfuegos/Catedral_de_Nuestra_Señora_de_la_Purísima_Concepción/166470/JPG/1123.JPG\n",
      "Cuba/Cienfuegos/Cienfuegos/Catedral_de_Nuestra_Señora_de_la_Purísima_Concepción/166470/JPG/1124.JPG\n",
      "Cuba/Cienfuegos/Cienfuegos/Catedral_de_Nuestra_Señora_de_la_Purísima_Concepción/166470/JPG/1125.JPG\n",
      "Cuba/Cienfuegos/Cienfuegos/Catedral_de_Nuestra_Señora_de_la_Purísima_Concepción/166470/JPG/1126.JPG\n",
      "Cuba/Cienfuegos/Cienfuegos/Catedral_de_Nuestra_Señora_de_la_Purísima_Concepción/166470/JPG/1127.JPG\n",
      "Cuba/Cienfuegos/Cienfuegos/Catedral_de_Nuestra_Señora_de_la_Purísima_Concepción/166470/JPG/1128.JPG\n",
      "Cuba/Cienfuegos/Cienfuegos/Catedral_de_Nuestra_Señora_de_la_Purísima_Concepción/166470/JPG/1129.JPG\n",
      "Cuba/Cienfuegos/Cienfuegos/Catedral_de_Nuestra_Señora_de_la_Purísima_Concepción/166470/JPG/1130.JPG\n",
      "Cuba/Cienfuegos/Cienfuegos/Catedral_de_Nuestra_Señora_de_la_Purísima_Concepción/166470/JPG/1131.JPG\n",
      "Cuba/Cienfuegos/Cienfuegos/Catedral_de_Nuestra_Señora_de_la_Purísima_Concepción/166470/JPG/1132.JPG\n",
      "Cuba/Cienfuegos/Cienfuegos/Catedral_de_Nuestra_Señora_de_la_Purísima_Concepción/166470/JPG/1133.JPG\n",
      "Cuba/Cienfuegos/Cienfuegos/Catedral_de_Nuestra_Señora_de_la_Purísima_Concepción/166470/JPG/1134.JPG\n",
      "Cuba/Cienfuegos/Cienfuegos/Catedral_de_Nuestra_Señora_de_la_Purísima_Concepción/166470/JPG/1135.JPG\n",
      "Cuba/Cienfuegos/Cienfuegos/Catedral_de_Nuestra_Señora_de_la_Purísima_Concepción/166470/JPG/1136.JPG\n",
      "Cuba/Cienfuegos/Cienfuegos/Catedral_de_Nuestra_Señora_de_la_Purísima_Concepción/166470/JPG/1137.JPG\n",
      "Cuba/Cienfuegos/Cienfuegos/Catedral_de_Nuestra_Señora_de_la_Purísima_Concepción/166470/JPG/1138.JPG\n",
      "Cuba/Cienfuegos/Cienfuegos/Catedral_de_Nuestra_Señora_de_la_Purísima_Concepción/166470/JPG/1139.JPG\n",
      "Cuba/Cienfuegos/Cienfuegos/Catedral_de_Nuestra_Señora_de_la_Purísima_Concepción/166470/JPG/1140.JPG\n",
      "Cuba/Cienfuegos/Cienfuegos/Catedral_de_Nuestra_Señora_de_la_Purísima_Concepción/166470/JPG/1141.JPG\n",
      "Cuba/Cienfuegos/Cienfuegos/Catedral_de_Nuestra_Señora_de_la_Purísima_Concepción/166470/JPG/1142.JPG\n",
      "Cuba/Cienfuegos/Cienfuegos/Catedral_de_Nuestra_Señora_de_la_Purísima_Concepción/166470/JPG/1143.JPG\n"
     ]
    }
   ],
   "source": [
    "volume_prefix = \"Cuba/Cienfuegos/Cienfuegos/Catedral_de_Nuestra_Señora_de_la_Purísima_Concepción/166470/\"\n",
    "\n",
    "for obj in assets.objects.filter(Prefix = volume_prefix):\n",
    "    if \".JPG\" in obj.key:\n",
    "        #s3_client.download_file(assets.name, obj.key, \"temp.xml\")\n",
    "        print(obj.key)"
   ]
  },
  {
   "cell_type": "code",
   "execution_count": null,
   "id": "respective-roads",
   "metadata": {},
   "outputs": [],
   "source": [
    "volume_prefix = \"Cuba/Cienfuegos/Cienfuegos/Catedral_de_Nuestra_Señora_de_la_Purísima_Concepción/166470/\"\n",
    "\n",
    "for obj in assets.objects.filter(Prefix = volume_prefix):\n",
    "    if \"DC\" in obj.key:\n",
    "        s3_client.download_file(assets.name, obj.key, \"temp.xml\")        "
   ]
  },
  {
   "cell_type": "code",
   "execution_count": null,
   "id": "tired-strengthening",
   "metadata": {},
   "outputs": [],
   "source": [
    "from PIL import Image\n",
    "import os"
   ]
  },
  {
   "cell_type": "code",
   "execution_count": null,
   "id": "limiting-morris",
   "metadata": {},
   "outputs": [
    {
     "name": "stdout",
     "output_type": "stream",
     "text": [
      "1001 JPG\n",
      "1002 JPG\n",
      "1003 JPG\n",
      "1004 JPG\n",
      "1005 JPG\n",
      "1006 JPG\n",
      "1007 JPG\n",
      "1008 JPG\n",
      "1009 JPG\n",
      "1010 JPG\n",
      "1011 JPG\n",
      "1012 JPG\n",
      "1013 JPG\n",
      "1014 JPG\n",
      "1015 JPG\n",
      "1016 JPG\n",
      "1017 JPG\n",
      "1018 JPG\n",
      "1019 JPG\n",
      "1020 JPG\n",
      "1021 JPG\n",
      "1022 JPG\n",
      "1023 JPG\n",
      "1024 JPG\n",
      "1025 JPG\n",
      "1026 JPG\n",
      "1027 JPG\n",
      "1028 JPG\n",
      "1029 JPG\n",
      "1030 JPG\n",
      "1031 JPG\n",
      "1032 JPG\n",
      "1033 JPG\n",
      "1034 JPG\n",
      "1035 JPG\n",
      "1036 JPG\n",
      "1037 JPG\n",
      "1038 JPG\n",
      "1039 JPG\n",
      "1040 JPG\n",
      "1041 JPG\n",
      "1042 JPG\n",
      "1043 JPG\n",
      "1044 JPG\n",
      "1045 JPG\n",
      "1046 JPG\n",
      "1047 JPG\n",
      "1048 JPG\n",
      "1049 JPG\n",
      "1050 JPG\n",
      "1051 JPG\n",
      "1052 JPG\n",
      "1053 JPG\n",
      "1054 JPG\n",
      "1055 JPG\n",
      "1056 JPG\n",
      "1057 JPG\n",
      "1058 JPG\n",
      "1059 JPG\n",
      "1060 JPG\n",
      "1061 JPG\n",
      "1062 JPG\n",
      "1063 JPG\n",
      "1064 JPG\n",
      "1065 JPG\n",
      "1066 JPG\n",
      "1067 JPG\n",
      "1068 JPG\n",
      "1069 JPG\n",
      "1070 JPG\n",
      "1071 JPG\n",
      "1072 JPG\n",
      "1073 JPG\n",
      "1074 JPG\n",
      "1075 JPG\n",
      "1076 JPG\n",
      "1077 JPG\n",
      "1078 JPG\n",
      "1079 JPG\n",
      "1080 JPG\n",
      "1081 JPG\n",
      "1082 JPG\n",
      "1083 JPG\n",
      "1084 JPG\n",
      "1085 JPG\n",
      "1086 JPG\n",
      "1087 JPG\n",
      "1088 JPG\n",
      "1089 JPG\n",
      "1090 JPG\n",
      "1091 JPG\n",
      "1092 JPG\n",
      "1093 JPG\n",
      "1094 JPG\n",
      "1095 JPG\n",
      "1096 JPG\n",
      "1097 JPG\n",
      "1098 JPG\n",
      "1099 JPG\n",
      "1100 JPG\n",
      "1101 JPG\n",
      "1102 JPG\n",
      "1103 JPG\n",
      "1104 JPG\n",
      "1105 JPG\n",
      "1106 JPG\n",
      "1107 JPG\n",
      "1108 JPG\n",
      "1109 JPG\n",
      "1110 JPG\n",
      "1111 JPG\n",
      "1112 JPG\n",
      "1113 JPG\n",
      "1114 JPG\n",
      "1115 JPG\n",
      "1116 JPG\n",
      "1117 JPG\n",
      "1118 JPG\n",
      "1119 JPG\n",
      "1120 JPG\n",
      "1121 JPG\n",
      "1122 JPG\n",
      "1123 JPG\n",
      "1124 JPG\n",
      "1125 JPG\n",
      "1126 JPG\n",
      "1127 JPG\n",
      "1128 JPG\n",
      "1129 JPG\n",
      "1130 JPG\n",
      "1131 JPG\n",
      "1132 JPG\n",
      "1133 JPG\n",
      "1134 JPG\n",
      "1135 JPG\n",
      "1136 JPG\n",
      "1137 JPG\n",
      "1138 JPG\n",
      "1139 JPG\n",
      "1140 JPG\n",
      "1141 JPG\n",
      "1142 JPG\n",
      "1143 JPG\n"
     ]
    }
   ],
   "source": [
    "volume_prefix = \"Cuba/Cienfuegos/Cienfuegos/Catedral_de_Nuestra_Señora_de_la_Purísima_Concepción/166470/\"\n",
    "\n",
    "for obj in assets.objects.filter(Prefix = volume_prefix):\n",
    "    if \".JPG\" in obj.key:\n",
    "        file_name = obj.key[obj.key.rfind('/') + 1:obj.key.rfind('.')]\n",
    "        extension = obj.key[obj.key.rfind('.') + 1:]\n",
    "        #s3_client.download_file(assets.name, obj.key, \"temp.xml\")\n",
    "        print(file_name, extension)"
   ]
  },
  {
   "cell_type": "code",
   "execution_count": null,
   "id": "mechanical-venture",
   "metadata": {},
   "outputs": [
    {
     "name": "stdout",
     "output_type": "stream",
     "text": [
      "[{'file_name': 1001, 'extension': 'JPG', 'height': 3648, 'width': 2736}, {'file_name': 1002, 'extension': 'JPG', 'height': 3648, 'width': 2736}, {'file_name': 1003, 'extension': 'JPG', 'height': 2736, 'width': 3648}, {'file_name': 1004, 'extension': 'JPG', 'height': 2736, 'width': 3648}, {'file_name': 1005, 'extension': 'JPG', 'height': 2736, 'width': 3648}]\n"
     ]
    }
   ],
   "source": [
    "from PIL import Image\n",
    "import os\n",
    "import boto3\n",
    "\n",
    "s3_client = boto3.client('s3')\n",
    "\n",
    "volume_prefix = \"Cuba/Cienfuegos/Cienfuegos/Catedral_de_Nuestra_Señora_de_la_Purísima_Concepción/166470/\"\n",
    "\n",
    "images = []\n",
    "for obj in assets.objects.filter(Prefix = volume_prefix):\n",
    "    if \".JPG\" in obj.key:\n",
    "        file_name = obj.key[obj.key.rfind('/') + 1:obj.key.rfind('.')]\n",
    "        extension = obj.key[obj.key.rfind('.') + 1:]\n",
    "        temp_path = file_name + '.' + extension\n",
    "        s3_client.download_file(assets.name, obj.key, temp_path)\n",
    "        im = Image.open(temp_path)\n",
    "        width, height = im.size\n",
    "        im.close()\n",
    "        os.remove(temp_path)\n",
    "        image = {\"file_name\": int(file_name), \"extension\": extension, \"height\": height, \"width\": width}\n",
    "        images.append(image)\n",
    "        \n",
    "print(images[:5])"
   ]
  },
  {
   "cell_type": "code",
   "execution_count": null,
   "id": "overall-munich",
   "metadata": {},
   "outputs": [
    {
     "data": {
      "text/plain": [
       "{'title': 'Libro 3 de Bautismos de Pardos y Morenos, 1839 - 1843',\n",
       " 's3_path': 55,\n",
       " 'creator': ['National Endowment for the Humanities Collaborative Research Grant',\n",
       "  'Antonio Loreto Sanchez'],\n",
       " 'subject': ['Baptisms', 'Cuba', 'Early Modern'],\n",
       " 'description': 'Fair condition',\n",
       " 'publisher': 'Slave Societies Digital Archive',\n",
       " 'contributor': [{'name': 'Jane Landers', 'role': 'project director'},\n",
       "  {'name': 'Daniel Genkins', 'role': 'metadata creation'}],\n",
       " 'coverage': {'institution': 'Catedral de Nuestra Señora de la Purísima Concepción',\n",
       "  'country': 'Cuba',\n",
       "  'state': 'Cienfuegos',\n",
       "  'city': 'Cienfuegos',\n",
       "  'coords': '22.14598, -80.45199'},\n",
       " 'identifier': '166470',\n",
       " 'date': '1839-08-14/1843-04-20',\n",
       " 'type': ['Text', 'Ecclesiastical records'],\n",
       " 'language': 'spa',\n",
       " 'rights': 'Vanderbilt University makes these historical records available for the limited purposes of individual private study, scholarship, research, teaching, and other educational or instructional uses. No rights of any kind are granted to users with respect to photographs or graphic images published on this site.'}"
      ]
     },
     "execution_count": null,
     "metadata": {},
     "output_type": "execute_result"
    }
   ],
   "source": [
    "ssda_volume_xml_to_dict(\"temp.xml\", 55)"
   ]
  },
  {
   "cell_type": "code",
   "execution_count": null,
   "id": "fleet-mountain",
   "metadata": {},
   "outputs": [
    {
     "data": {
      "text/plain": [
       "'166470.json'"
      ]
     },
     "execution_count": null,
     "metadata": {},
     "output_type": "execute_result"
    }
   ],
   "source": [
    "def build_volume_manifest(volume_id, volume_title, volume_geography, image_details, manifest_server=None, image_server=None, default_server=None, output_dir_prefix=None):\n",
    "    '''\n",
    "    Builds a IIIF manifest for an SSDA volume based on specified metadata.\n",
    "        volume_id: unique ID for specified volume\n",
    "        volume_geography: a dictionary containing the volume's location within SSDA geographic hierarchy (used to build S3 url)\n",
    "        image_details: a dictionary containing the file names, extensions, and dimensions of all images in the volume\n",
    "        output_dir_prefix: path to append output manifest file name to, if applicable\n",
    "        manifest_server: base URL for manifest server, including trailing forward slash\n",
    "        \n",
    "        returns: path to a json file containing a valid IIIF manifest for the volume\n",
    "    '''    \n",
    "    if default_server == None:\n",
    "        default_server = \"http://localhost:3000/\"\n",
    "    \n",
    "    if output_dir_prefix != None:\n",
    "        volume_json_path = output_dir_prefix + '\\\\' + str(volume_id) + \".json\"\n",
    "    else:\n",
    "        volume_json_path = str(volume_id) + \".json\"\n",
    "        \n",
    "    #cantaloupe can't handle utf-8 encoded characters apparently\n",
    "    chars = [\"á\", \"é\", \"í\", \"ñ\", \"ó\", \"ú\"]\n",
    "    subs = [\"25E1\", \"25E9\", \"25ED\", \"25F1\", \"25F3\", \"25FA\"]\n",
    "    for key in volume_geography:\n",
    "        for char in volume_geography[key]:\n",
    "            if char in chars:\n",
    "                volume_geography[key] = volume_geography[key].replace(char, subs[chars.index(char)])\n",
    "    \n",
    "    with open(volume_json_path, \"w\", encoding = \"utf-8\") as outfile:\n",
    "        outfile.write('{\\n')\n",
    "        #add indentation eventually?\n",
    "        outfile.write(\"\\\"@context\\\": \\\"http://iiif.io/api/presentation/2/context.json\\\",\\n\")\n",
    "        outfile.write(\"\\\"@type\\\": \\\"sc:Manifest\\\",\\n\")\n",
    "        outfile.write(\"\\\"@id\\\": \\\"\")\n",
    "        write_server(outfile, manifest_server, default_server)           \n",
    "        outfile.write(\"manifest/\" + str(volume_id) + \".json\\\",\\n\")\n",
    "        outfile.write(\"\\\"label\\\": \\\"\" + volume_title + \"\\\",\\n\")\n",
    "        #add description\n",
    "        outfile.write(\"\\\"attribution\\\": \\\"Slave Societies Digital Archive\\\",\\n\")\n",
    "        outfile.write(\"\\\"logo\\\": \\\"\")\n",
    "        write_server(outfile, manifest_server, default_server) \n",
    "        outfile.write(\"ssda_logo.jpg\\\",\\n\")\n",
    "        \n",
    "        outfile.write(\"\\\"sequences\\\": [\\n\")\n",
    "        outfile.write(\"{\\n\")\n",
    "        outfile.write(\"\\\"@type\\\": \\\"sc:Sequence\\\",\\n\")\n",
    "        outfile.write(\"\\\"@id\\\": \\\"\")\n",
    "        write_server(outfile, manifest_server, default_server)           \n",
    "        outfile.write(\"sequence/\" + str(volume_id) + \".json\\\",\\n\")\n",
    "        outfile.write(\"\\\"canvases\\\": [\\n\")\n",
    "        \n",
    "        first_image = True\n",
    "        for image in image_details:\n",
    "            if not first_image:\n",
    "                outfile.write(\",\\n\")\n",
    "            else:\n",
    "                first_image = False\n",
    "            \n",
    "            outfile.write(\"{\\n\")\n",
    "            outfile.write(\"\\\"@type\\\": \\\"sc:Canvas\\\",\\n\")            \n",
    "            outfile.write(\"\\\"@id\\\": \\\"\")\n",
    "            write_server(outfile, manifest_server, default_server)\n",
    "            canvas_id = str(volume_id) + '-' + str(image[\"file_name\"])\n",
    "            outfile.write(\"canvas/\" + canvas_id + \".json\\\",\\n\")\n",
    "            outfile.write(\"\\\"label\\\": \\\"\" + str(image[\"file_name\"] - 1000) + \"\\\",\\n\")\n",
    "            outfile.write(\"\\\"width\\\": \" + str(image[\"width\"]) + \",\\n\")\n",
    "            outfile.write(\"\\\"height\\\": \" + str(image[\"height\"]) + \",\\n\")\n",
    "            outfile.write(\"\\\"images\\\": [\\n\")\n",
    "            outfile.write(\"{\\n\")\n",
    "            outfile.write(\"\\\"@type\\\": \\\"oa:Annotation\\\",\\n\")\n",
    "            #add annotation id\n",
    "            outfile.write(\"\\\"motivation\\\": \\\"sc:painting\\\",\\n\")\n",
    "            outfile.write(\"\\\"on\\\": \\\"\")\n",
    "            write_server(outfile, manifest_server, default_server)\n",
    "            outfile.write(\"canvas/\" + canvas_id + \".json\\\",\\n\")\n",
    "            outfile.write(\"\\\"resource\\\": {\\n\")            \n",
    "            outfile.write(\"\\\"@type\\\": \\\"dctypes:Image\\\",\\n\")\n",
    "            #add resource format\n",
    "            outfile.write(\"\\\"@id\\\": \\\"\")\n",
    "            write_server(outfile, image_server, default_server)\n",
    "            outfile.write(volume_geography[\"country\"].replace(' ', '_') + \"%2F\" + volume_geography[\"state\"].replace(' ', '_') + \"%2F\" + volume_geography[\"city\"].replace(' ', '_') + \"%2F\" + volume_geography[\"institution\"].replace(' ', '_') + \"%2F\" + str(volume_id) + \"%2F\" + image[\"extension\"].upper() + \"%2F\" + str(image[\"file_name\"]) + '.' + image[\"extension\"] + \"/full/\" + str(image[\"width\"]) + \",/0/default.jpg\\\",\\n\")\n",
    "            outfile.write(\"\\\"width\\\": \" + str(image[\"width\"]) + \",\\n\")\n",
    "            outfile.write(\"\\\"height\\\": \" + str(image[\"height\"]) + \",\\n\")\n",
    "            outfile.write(\"\\\"service\\\": {\\n\")\n",
    "            outfile.write(\"\\\"@id\\\": \\\"\")\n",
    "            write_server(outfile, image_server, default_server)\n",
    "            outfile.write(volume_geography[\"country\"].replace(' ', '_') + \"%2F\" + volume_geography[\"state\"].replace(' ', '_') + \"%2F\" + volume_geography[\"city\"].replace(' ', '_') + \"%2F\" + volume_geography[\"institution\"].replace(' ', '_') + \"%2F\" + str(volume_id) + \"%2F\" + image[\"extension\"].upper() + \"%2F\" + str(image[\"file_name\"]) + '.' + image[\"extension\"] + \"\\\",\\n\")\n",
    "            outfile.write(\"\\\"@context\\\": \\\"http://iiif.io/api/image/2/context.json\\\",\\n\")\n",
    "            outfile.write(\"\\\"profile\\\": \\\"http://iiif.io/api/image/2/level2.json\\\"\\n\")\n",
    "            outfile.write(\"}\\n\")\n",
    "            outfile.write(\"}\\n\")\n",
    "            outfile.write(\"}\\n\")\n",
    "            outfile.write(\"]\\n\")\n",
    "            outfile.write(\"}\")\n",
    "            \n",
    "        outfile.write(\"\\n\")\n",
    "        outfile.write(\"]\\n\")\n",
    "        outfile.write(\"}\\n\")\n",
    "        outfile.write(\"]\\n\")\n",
    "        outfile.write(\"}\\n\")\n",
    "    \n",
    "    return volume_json_path\n",
    "\n",
    "def write_server(outfile, server, default):\n",
    "    if server == None:\n",
    "        outfile.write(default)\n",
    "    else:\n",
    "        outfile.write(server)\n",
    "        \n",
    "volume_metadata = ssda_volume_xml_to_dict(\"temp.xml\", 66)\n",
    "build_volume_manifest(volume_metadata[\"identifier\"], volume_metadata[\"title\"], volume_metadata[\"coverage\"], images, manifest_server = \"https://danielgenkins.com/\", image_server = \"http://localhost:8182/iiif/2/\")"
   ]
  },
  {
   "cell_type": "code",
   "execution_count": null,
   "id": "verified-causing",
   "metadata": {},
   "outputs": [],
   "source": []
  }
 ],
 "metadata": {
  "kernelspec": {
   "display_name": "Python 3",
   "language": "python",
   "name": "python3"
  },
  "language_info": {
   "codemirror_mode": {
    "name": "ipython",
    "version": 3
   },
   "file_extension": ".py",
   "mimetype": "text/x-python",
   "name": "python",
   "nbconvert_exporter": "python",
   "pygments_lexer": "ipython3",
   "version": "3.8.5"
  }
 },
 "nbformat": 4,
 "nbformat_minor": 5
}
