{
 "cells": [
  {
   "cell_type": "code",
   "execution_count": 28,
   "metadata": {},
   "outputs": [],
   "source": [
    "def build_volume_manifest(volume_id, volume_title, volume_geography, image_details, manifest_server=None, image_server=None, default_server=None, output_dir_prefix=None):\n",
    "    '''\n",
    "    Builds a IIIF manifest for an SSDA volume based on specified metadata.\n",
    "        volume_id: unique ID for specified volume\n",
    "        volume_geography: a dictionary containing the volume's location within SSDA geographic hierarchy (used to build S3 url)\n",
    "        image_details: a dictionary containing the file names, extensions, and dimensions of all images in the volume\n",
    "        output_dir_prefix: path to append output manifest file name to, if applicable\n",
    "        manifest_server: base URL for manifest server, including trailing forward slash\n",
    "        \n",
    "        returns: path to a json file containing a valid IIIF manifest for the volume\n",
    "    '''    \n",
    "    if default_server == None:\n",
    "        default_server = \"http://localhost:3000/\"\n",
    "    \n",
    "    if output_dir_prefix != None:\n",
    "        volume_json_path = output_dir_prefix + '\\\\' + str(volume_id) + \".json\"\n",
    "    else:\n",
    "        volume_json_path = str(volume_id) + \".json\"\n",
    "        \n",
    "    with open(volume_json_path, \"w\") as outfile:\n",
    "        outfile.write('{\\n')\n",
    "        #add indentation eventually?\n",
    "        outfile.write(\"\\\"@context\\\": \\\"http://iiif.io/api/presentation/2/context.json\\\",\\n\")\n",
    "        outfile.write(\"\\\"@type\\\": \\\"sc:Manifest\\\",\\n\")\n",
    "        outfile.write(\"\\\"@id\\\": \\\"\")\n",
    "        write_server(outfile, manifest_server, default_server)           \n",
    "        outfile.write(\"manifest/\" + str(volume_id) + \".json\\\",\\n\")\n",
    "        outfile.write(\"\\\"label\\\": \\\"\" + volume_title + \"\\\",\\n\")\n",
    "        #add description\n",
    "        outfile.write(\"\\\"attribution\\\": \\\"Slave Societies Digital Archive\\\",\\n\")\n",
    "        outfile.write(\"\\\"logo\\\": \\\"\")\n",
    "        write_server(outfile, manifest_server, default_server) \n",
    "        outfile.write(\"ssda_logo.jpg\\\",\\n\")\n",
    "        \n",
    "        outfile.write(\"\\\"sequences\\\": [\\n\")\n",
    "        outfile.write(\"{\\n\")\n",
    "        outfile.write(\"\\\"@type\\\": \\\"sc:Sequence\\\",\\n\")\n",
    "        outfile.write(\"\\\"@id\\\": \\\"\")\n",
    "        write_server(outfile, manifest_server, default_server)           \n",
    "        outfile.write(\"sequence/\" + str(volume_id) + \".json\\\",\\n\")\n",
    "        outfile.write(\"\\\"canvases\\\": [\\n\")\n",
    "        \n",
    "        first_image = True\n",
    "        for image in image_details:\n",
    "            if not first_image:\n",
    "                outfile.write(\",\\n\")\n",
    "            else:\n",
    "                first_image = False\n",
    "            \n",
    "            outfile.write(\"{\\n\")\n",
    "            outfile.write(\"\\\"@type\\\": \\\"sc:Canvas\\\",\\n\")            \n",
    "            outfile.write(\"\\\"@id\\\": \\\"\")\n",
    "            write_server(outfile, manifest_server, default_server)\n",
    "            canvas_id = str(volume_id) + '-' + str(image[\"file_name\"])\n",
    "            outfile.write(\"canvas/\" + canvas_id + \".json\\\",\\n\")\n",
    "            outfile.write(\"\\\"label\\\": \\\"\" + str(image[\"file_name\"] - 1000) + \"\\\",\\n\")\n",
    "            outfile.write(\"\\\"width\\\": \" + str(image[\"width\"]) + \",\\n\")\n",
    "            outfile.write(\"\\\"height\\\": \" + str(image[\"height\"]) + \",\\n\")\n",
    "            outfile.write(\"\\\"images\\\": [\\n\")\n",
    "            outfile.write(\"{\\n\")\n",
    "            outfile.write(\"\\\"@type\\\": \\\"oa:Annotation\\\",\\n\")\n",
    "            #add annotation id\n",
    "            outfile.write(\"\\\"motivation\\\": \\\"sc:painting\\\",\\n\")\n",
    "            outfile.write(\"\\\"on\\\": \\\"\")\n",
    "            write_server(outfile, manifest_server, default_server)\n",
    "            outfile.write(\"canvas/\" + canvas_id + \".json\\\",\\n\")\n",
    "            outfile.write(\"\\\"resource\\\": {\\n\")            \n",
    "            outfile.write(\"\\\"@type\\\": \\\"dctypes:Image\\\",\\n\")\n",
    "            #add resource format\n",
    "            outfile.write(\"\\\"@id\\\": \\\"\")\n",
    "            write_server(outfile, image_server, default_server)\n",
    "            outfile.write(volume_geography[\"country\"].replace(' ', '_') + \"%2F\" + volume_geography[\"state\"].replace(' ', '_') + \"%2F\" + volume_geography[\"city\"].replace(' ', '_') + \"%2F\" + volume_geography[\"institution\"].replace(' ', '_') + \"%2F\" + str(volume_id) + \"%2F\" + image[\"extension\"].upper() + \"%2F\" + str(image[\"file_name\"]) + '.' + image[\"extension\"] + \"/full/\" + str(image[\"width\"]) + \",/0/default.jpg\\\",\\n\")\n",
    "            outfile.write(\"\\\"width\\\": \" + str(image[\"width\"]) + \",\\n\")\n",
    "            outfile.write(\"\\\"height\\\": \" + str(image[\"height\"]) + \",\\n\")\n",
    "            outfile.write(\"\\\"service\\\": {\\n\")\n",
    "            outfile.write(\"\\\"@id\\\": \\\"\")\n",
    "            write_server(outfile, image_server, default_server)\n",
    "            outfile.write(volume_geography[\"country\"].replace(' ', '_') + \"%2F\" + volume_geography[\"state\"].replace(' ', '_') + \"%2F\" + volume_geography[\"city\"].replace(' ', '_') + \"%2F\" + volume_geography[\"institution\"].replace(' ', '_') + \"%2F\" + str(volume_id) + \"%2F\" + image[\"extension\"].upper() + \"%2F\" + str(image[\"file_name\"]) + '.' + image[\"extension\"] + \"\\\",\\n\")\n",
    "            outfile.write(\"\\\"@context\\\": \\\"http://iiif.io/api/image/2/context.json\\\",\\n\")\n",
    "            outfile.write(\"\\\"profile\\\": \\\"http://iiif.io/api/image/2/level2.json\\\"\\n\")\n",
    "            outfile.write(\"}\\n\")\n",
    "            outfile.write(\"}\\n\")\n",
    "            outfile.write(\"}\\n\")\n",
    "            outfile.write(\"]\\n\")\n",
    "            outfile.write(\"}\")\n",
    "            \n",
    "        outfile.write(\"\\n\")\n",
    "        outfile.write(\"]\\n\")\n",
    "        outfile.write(\"}\\n\")\n",
    "        outfile.write(\"]\\n\")\n",
    "        outfile.write(\"}\\n\")\n",
    "    \n",
    "    return volume_json_path"
   ]
  },
  {
   "cell_type": "code",
   "execution_count": 20,
   "metadata": {},
   "outputs": [],
   "source": [
    "def write_server(outfile, server, default):\n",
    "    if server == None:\n",
    "        outfile.write(default)\n",
    "    else:\n",
    "        outfile.write(server)"
   ]
  },
  {
   "cell_type": "code",
   "execution_count": 18,
   "metadata": {},
   "outputs": [],
   "source": [
    "volume_geography = {\"country\": \"Brazil\", \"state\": \"Minas Gerais\", \"city\": \"Nova Lima\", \"institution\": \"Nossa Senhora do Pilar\"}\n",
    "first_image = {\"file_name\": 1001, \"extension\": \"JPG\", \"height\": 3648, \"width\": 2736}\n",
    "second_image = {\"file_name\": 1002, \"extension\": \"JPG\", \"height\": 3648, \"width\": 2736}\n",
    "images = [first_image, second_image]"
   ]
  },
  {
   "cell_type": "code",
   "execution_count": 29,
   "metadata": {},
   "outputs": [
    {
     "data": {
      "text/plain": [
       "'2223.json'"
      ]
     },
     "execution_count": 29,
     "metadata": {},
     "output_type": "execute_result"
    }
   ],
   "source": [
    "build_volume_manifest(2223, \"Test Volume\", volume_geography, images, manifest_server = \"https://danielgenkins.com/\", image_server = \"http://localhost:8182/iiif/2/\")"
   ]
  },
  {
   "cell_type": "code",
   "execution_count": null,
   "metadata": {},
   "outputs": [],
   "source": []
  }
 ],
 "metadata": {
  "kernelspec": {
   "display_name": "Python 3",
   "language": "python",
   "name": "python3"
  },
  "language_info": {
   "codemirror_mode": {
    "name": "ipython",
    "version": 3
   },
   "file_extension": ".py",
   "mimetype": "text/x-python",
   "name": "python",
   "nbconvert_exporter": "python",
   "pygments_lexer": "ipython3",
   "version": "3.8.5"
  }
 },
 "nbformat": 4,
 "nbformat_minor": 2
}
