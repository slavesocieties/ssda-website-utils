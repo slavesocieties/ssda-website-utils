{
 "cells": [
  {
   "cell_type": "code",
   "execution_count": null,
   "metadata": {},
   "outputs": [],
   "source": [
    "def build_volume_manifest(volume_geography, image_details):\n",
    "    '''\n",
    "    Builds a IIIF manifest for an SSDA volume based on specified metadata.\n",
    "        volume_geography: a dictionary containing the volume's location within SSDA geographic hierarchy (used to build S3 url)\n",
    "        image_details: a dictionary containing the file names, extensions, and dimensions of all images in the volume\n",
    "        returns: path to a json file containing a valid IIIF manifest for the volume\n",
    "    '''\n",
    "    \n",
    "    return volume_json_path"
   ]
  }
 ],
 "metadata": {
  "kernelspec": {
   "display_name": "Python 3",
   "language": "python",
   "name": "python3"
  },
  "language_info": {
   "codemirror_mode": {
    "name": "ipython",
    "version": 3
   },
   "file_extension": ".py",
   "mimetype": "text/x-python",
   "name": "python",
   "nbconvert_exporter": "python",
   "pygments_lexer": "ipython3",
   "version": "3.7.4"
  }
 },
 "nbformat": 4,
 "nbformat_minor": 2
}
